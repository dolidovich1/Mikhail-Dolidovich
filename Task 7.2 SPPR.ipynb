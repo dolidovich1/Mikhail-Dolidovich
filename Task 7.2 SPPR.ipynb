{
  "nbformat": 4,
  "nbformat_minor": 0,
  "metadata": {
    "colab": {
      "name": "Untitled0.ipynb",
      "provenance": [],
      "collapsed_sections": [],
      "authorship_tag": "ABX9TyP0g/1NtpW3bS1OVgX50qOK",
      "include_colab_link": true
    },
    "kernelspec": {
      "name": "python3",
      "display_name": "Python 3"
    },
    "language_info": {
      "name": "python"
    }
  },
  "cells": [
    {
      "cell_type": "markdown",
      "metadata": {
        "id": "view-in-github",
        "colab_type": "text"
      },
      "source": [
        "<a href=\"https://colab.research.google.com/github/dolidovich1/Mikhail-Dolidovich/blob/main/Task%207.2%20SPPR.ipynb\" target=\"_parent\"><img src=\"https://colab.research.google.com/assets/colab-badge.svg\" alt=\"Open In Colab\"/></a>"
      ]
    },
    {
      "cell_type": "code",
      "metadata": {
        "id": "10t-_fAzSToE"
      },
      "source": [
        "from matplotlib import pylab as plt\n",
        "from matplotlib import colors\n",
        "import numpy as np\n",
        "import math\n",
        "from itertools import product"
      ],
      "execution_count": 7,
      "outputs": []
    },
    {
      "cell_type": "code",
      "metadata": {
        "id": "m7Tt1Nr6Syfn"
      },
      "source": [
        "def triangle_FS (U, a = None, b = None, c = None, d = None, h = 1, form = 'equal'):\n",
        "  if form in ['equal', 'greater', 'less']:\n",
        "    if a is None:\n",
        "      a = U.min()\n",
        "    if c is None:\n",
        "      c = U.max()\n",
        "    if b is None:\n",
        "      if d is None:\n",
        "        b = (a + c) / 2.\n",
        "      else:\n",
        "        b=d\n",
        "    if d is None:\n",
        "      d = b\n",
        "    Mu = dict()\n",
        "    if a > U.min():\n",
        "      for el in U[U <= a]:\n",
        "        Mu[el] = h if form == 'less' else 0.\n",
        "    if c < U.max():\n",
        "      for el in U[U >= c]:\n",
        "        r = h if form == 'greater' else 0.\n",
        "        z = Mu.get(el, 0)\n",
        "        Mu[el] = r if r > z else z\n",
        "    if a < b:\n",
        "      for el in U[(U >= a)*(U <= b)]:\n",
        "        r = 0. if form == 'greater' else h * float (el - a) / (b - a) if form == 'equal' else h * float (b - el) / (b - a)\n",
        "        z = Mu.get(el, 0)\n",
        "        Mu[el] = r if r > z else z\n",
        "    if b < d:\n",
        "      for el in U[(U >= b) * (U >= d)]:\n",
        "        r = h if form == 'equal' else 0.\n",
        "        z = Mu.get(el, 0)\n",
        "        Mu[el] = r if r > z else z\n",
        "    if d < c:\n",
        "      for el in U[(U >= d) * (U <= c)]:\n",
        "         r = 0. if form == 'less' else h * float (el - d) / (c - d) if form == 'greater' else h * float (c - el) / (c - d)\n",
        "         z = Mu.get(el, 0)\n",
        "         Mu[el] = r if r > z else z\n",
        "    return Mu\n",
        "  else:\n",
        "    print ('Unknown form')\n",
        "    return None"
      ],
      "execution_count": 8,
      "outputs": []
    },
    {
      "cell_type": "code",
      "metadata": {
        "id": "p-OryJH_0Kk-"
      },
      "source": [
        "def FS_plot(FS, colors = list(colors.cnames.keys()), labels = None, title = None, name = None):\n",
        "  for idx, el in enumerate(FS):\n",
        "    mas = np.array(sorted(list(el.items()), key = lambda x: x[0])).T\n",
        "    if (labels is None):\n",
        "      lab = ' '\n",
        "    else:\n",
        "      lab = labels[idx]\n",
        "    plt.plot(mas[0], mas[1], color = colors[idx], label = lab)\n",
        "  if not (labels is None):\n",
        "    plt.legend(loc = 'upper right')\n",
        "  if not (title is None):\n",
        "    plt.title(title)\n",
        "  if not (name is None):\n",
        "    plt.savefig(name + '.png', format = 'png', dpi = 100)\n",
        "  plt.show()"
      ],
      "execution_count": 9,
      "outputs": []
    },
    {
      "cell_type": "code",
      "metadata": {
        "colab": {
          "base_uri": "https://localhost:8080/",
          "height": 265
        },
        "id": "F4KwGIa92hON",
        "outputId": "9e796e92-e4a8-4681-8263-b9d037e6bdfc"
      },
      "source": [
        "Spr = np.arange(1,101,1)\n",
        "Pr1 = triangle_FS(Spr, a = 20, b=40, d = 60, c = 80)\n",
        "Pr2 = triangle_FS(Spr, a = 20, b=40, d = 60, c = 80, form = 'less')\n",
        "Pr3 = triangle_FS(Spr, a = 20, b=40, d = 60, c = 80, form = 'greater')\n",
        "FS_plot([Pr1, Pr2, Pr3], labels = ['equal', 'less', 'greater'])"
      ],
      "execution_count": 10,
      "outputs": [
        {
          "output_type": "display_data",
          "data": {
            "image/png": "[encoded data removed]",
            "text/plain": [
              "<Figure size 432x288 with 1 Axes>"
            ]
          },
          "metadata": {
            "needs_background": "light"
          }
        }
      ]
    },
    {
      "cell_type": "code",
      "metadata": {
        "colab": {
          "base_uri": "https://localhost:8080/",
          "height": 281
        },
        "id": "Ehwx8-nl45Xd",
        "outputId": "fe7f0739-34ff-4b75-9453-afa50b89ce84"
      },
      "source": [
        "Pr4 = triangle_FS(Spr)\n",
        "FS_plot([Pr4], title ='Идеальное множество')"
      ],
      "execution_count": 15,
      "outputs": [
        {
          "output_type": "display_data",
          "data": {
            "image/png": "[encoded data removed]",
            "text/plain": [
              "<Figure size 432x288 with 1 Axes>"
            ]
          },
          "metadata": {
            "needs_background": "light"
          }
        }
      ]
    },
    {
      "cell_type": "code",
      "metadata": {
        "colab": {
          "base_uri": "https://localhost:8080/"
        },
        "id": "ckoiFDOr5Mob",
        "outputId": "576300b2-756b-4894-a731-1d221caccbf7"
      },
      "source": [
        "Pr1[25]"
      ],
      "execution_count": null,
      "outputs": [
        {
          "output_type": "execute_result",
          "data": {
            "text/plain": [
              "0.25"
            ]
          },
          "metadata": {},
          "execution_count": 8
        }
      ]
    }
  ]
}