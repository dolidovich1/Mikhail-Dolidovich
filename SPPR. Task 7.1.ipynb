{
  "nbformat": 4,
  "nbformat_minor": 0,
  "metadata": {
    "colab": {
      "name": "Untitled0.ipynb",
      "provenance": [],
      "collapsed_sections": [],
      "authorship_tag": "ABX9TyMAPI1goBp3tYZ5AIOqbrJu",
      "include_colab_link": true
    },
    "kernelspec": {
      "name": "python3",
      "display_name": "Python 3"
    },
    "language_info": {
      "name": "python"
    }
  },
  "cells": [
    {
      "cell_type": "markdown",
      "metadata": {
        "id": "view-in-github",
        "colab_type": "text"
      },
      "source": [
        "<a href=\"https://colab.research.google.com/github/dolidovich1/Mikhail-Dolidovich/blob/main/SPPR.%20Task%207.1.ipynb\" target=\"_parent\"><img src=\"https://colab.research.google.com/assets/colab-badge.svg\" alt=\"Open In Colab\"/></a>"
      ]
    },
    {
      "cell_type": "code",
      "metadata": {
        "id": "10t-_fAzSToE"
      },
      "source": [
        "from matplotlib import pylab as plt\n",
        "from matplotlib import colors\n",
        "import numpy as np\n",
        "import math\n",
        "from itertools import product"
      ],
      "execution_count": null,
      "outputs": []
    },
    {
      "cell_type": "code",
      "metadata": {
        "id": "m7Tt1Nr6Syfn"
      },
      "source": [
        "def triangle_FS (U, a = None, b = None, c = None, d = None, h = 1, form = 'equal'):\n",
        "  if form in ['equal', 'greater', 'less']:\n",
        "    if a is None:\n",
        "      a = U.min()\n",
        "    if c is None:\n",
        "      c = U.max()\n",
        "    if b is None:\n",
        "      if d is None:\n",
        "        b = (a + c) / 2.\n",
        "      else:\n",
        "        b=d\n",
        "    if d is None:\n",
        "      d = b\n",
        "    Mu = dict()\n",
        "    if a > U.min():\n",
        "      for el in U[U <= a]:\n",
        "        Mu[el] = h if form == 'less' else 0.\n",
        "    if c < U.max():\n",
        "      for el in U[U >= c]:\n",
        "        r = h if form == 'greater' else 0.\n",
        "        z = Mu.get(el, 0)\n",
        "        Mu[el] = r if r > z else z\n",
        "    if a < b:\n",
        "      for el in U[(U >= a)*(U <= b)]:\n",
        "        r = 0. if form == 'greater' else h * float (el - a) / (b - a) if form == 'equal' else h * float (b - el) / (b - a)\n",
        "        z = Mu.get(el, 0)\n",
        "        Mu[el] = r if r > z else z\n",
        "    if b < d:\n",
        "      for el in U[(U >= b) * (U >= d)]:\n",
        "        r = h if form == 'equal' else 0.\n",
        "        z = Mu.get(el, 0)\n",
        "        Mu[el] = r if r > z else z\n",
        "    if d < c:\n",
        "      for el in U[(U >= d) * (U <= c)]:\n",
        "         r = 0. if form == 'less' else h * float (el - d) / (c - d) if form == 'greater' else h * float (c - el) / (c - d)\n",
        "         z = Mu.get(el, 0)\n",
        "         Mu[el] = r if r > z else z\n",
        "    return Mu\n",
        "  else:\n",
        "    print ('Unknown form')\n",
        "    return None"
      ],
      "execution_count": null,
      "outputs": []
    },
    {
      "cell_type": "code",
      "metadata": {
        "id": "p-OryJH_0Kk-"
      },
      "source": [
        "def FS_plot(FS, colors = colors.cnames.keys(), labels = None, Title = None, name = None):\n",
        "  for idx, el in enumerate(FS):\n",
        "    mas = np.array(sorted(el.items(), key = lambda x: x[0])).T\n",
        "    if (labels is None):\n",
        "      lab = ' '\n",
        "    else:\n",
        "      lab = labels[idx]\n",
        "    plt.plot(mas[0], mas[1], color = colors[idx], label = lab)\n",
        "  if not (labels is None):\n",
        "    plt.legend(loc = 'upper right')\n",
        "  if not (title is None):\n",
        "    plt.title(title)\n",
        "  if not (name is None):\n",
        "    plt.savefig(name + '.png', format = 'png', dpi = 100)\n",
        "  plt.show()"
      ],
      "execution_count": null,
      "outputs": []
    },
    {
      "cell_type": "code",
      "metadata": {
        "colab": {
          "base_uri": "https://localhost:8080/",
          "height": 322
        },
        "id": "F4KwGIa92hON",
        "outputId": "23ea051f-6044-4059-b7cb-2ff062aaea21"
      },
      "source": [
        "Spr = np.arange(1,101,1)\n",
        "Pr1 = triangle_FS(Spr, a = 20, b=40, d = 60, c = 80)\n",
        "Pr2 = triangle_FS(Spr, a = 20, b=40, d = 60, c = 80, form = 'less')\n",
        "Pr3 = triangle_FS(Spr, a = 20, b=40, d = 60, c = 80, form = 'greater')\n",
        "FS_plot([Pr1, Pr2, Pr3], labels = ['equal', 'less', 'greater'])"
      ],
      "execution_count": null,
      "outputs": [
        {
          "output_type": "error",
          "ename": "TypeError",
          "evalue": "ignored",
          "traceback": [
            "\u001b[0;31m---------------------------------------------------------------------------\u001b[0m",
            "\u001b[0;31mTypeError\u001b[0m                                 Traceback (most recent call last)",
            "\u001b[0;32m<ipython-input-22-7855cd8c29e1>\u001b[0m in \u001b[0;36m<module>\u001b[0;34m()\u001b[0m\n\u001b[1;32m      3\u001b[0m \u001b[0mPr2\u001b[0m \u001b[0;34m=\u001b[0m \u001b[0mtriangle_FS\u001b[0m\u001b[0;34m(\u001b[0m\u001b[0mSpr\u001b[0m\u001b[0;34m,\u001b[0m \u001b[0ma\u001b[0m \u001b[0;34m=\u001b[0m \u001b[0;36m20\u001b[0m\u001b[0;34m,\u001b[0m \u001b[0mb\u001b[0m\u001b[0;34m=\u001b[0m\u001b[0;36m40\u001b[0m\u001b[0;34m,\u001b[0m \u001b[0md\u001b[0m \u001b[0;34m=\u001b[0m \u001b[0;36m60\u001b[0m\u001b[0;34m,\u001b[0m \u001b[0mc\u001b[0m \u001b[0;34m=\u001b[0m \u001b[0;36m80\u001b[0m\u001b[0;34m,\u001b[0m \u001b[0mform\u001b[0m \u001b[0;34m=\u001b[0m \u001b[0;34m'less'\u001b[0m\u001b[0;34m)\u001b[0m\u001b[0;34m\u001b[0m\u001b[0;34m\u001b[0m\u001b[0m\n\u001b[1;32m      4\u001b[0m \u001b[0mPr3\u001b[0m \u001b[0;34m=\u001b[0m \u001b[0mtriangle_FS\u001b[0m\u001b[0;34m(\u001b[0m\u001b[0mSpr\u001b[0m\u001b[0;34m,\u001b[0m \u001b[0ma\u001b[0m \u001b[0;34m=\u001b[0m \u001b[0;36m20\u001b[0m\u001b[0;34m,\u001b[0m \u001b[0mb\u001b[0m\u001b[0;34m=\u001b[0m\u001b[0;36m40\u001b[0m\u001b[0;34m,\u001b[0m \u001b[0md\u001b[0m \u001b[0;34m=\u001b[0m \u001b[0;36m60\u001b[0m\u001b[0;34m,\u001b[0m \u001b[0mc\u001b[0m \u001b[0;34m=\u001b[0m \u001b[0;36m80\u001b[0m\u001b[0;34m,\u001b[0m \u001b[0mform\u001b[0m \u001b[0;34m=\u001b[0m \u001b[0;34m'greater'\u001b[0m\u001b[0;34m)\u001b[0m\u001b[0;34m\u001b[0m\u001b[0;34m\u001b[0m\u001b[0m\n\u001b[0;32m----> 5\u001b[0;31m \u001b[0mFS_plot\u001b[0m\u001b[0;34m(\u001b[0m\u001b[0;34m[\u001b[0m\u001b[0mPr1\u001b[0m\u001b[0;34m,\u001b[0m \u001b[0mPr2\u001b[0m\u001b[0;34m,\u001b[0m \u001b[0mPr3\u001b[0m\u001b[0;34m]\u001b[0m\u001b[0;34m,\u001b[0m \u001b[0mlabels\u001b[0m \u001b[0;34m=\u001b[0m \u001b[0;34m[\u001b[0m\u001b[0;34m'equal'\u001b[0m\u001b[0;34m,\u001b[0m \u001b[0;34m'less'\u001b[0m\u001b[0;34m,\u001b[0m \u001b[0;34m'greater'\u001b[0m\u001b[0;34m]\u001b[0m\u001b[0;34m)\u001b[0m\u001b[0;34m\u001b[0m\u001b[0;34m\u001b[0m\u001b[0m\n\u001b[0m",
            "\u001b[0;32m<ipython-input-21-39cc4e8e4131>\u001b[0m in \u001b[0;36mFS_plot\u001b[0;34m(FS, colors, labels, Title, name)\u001b[0m\n\u001b[1;32m      6\u001b[0m     \u001b[0;32melse\u001b[0m\u001b[0;34m:\u001b[0m\u001b[0;34m\u001b[0m\u001b[0;34m\u001b[0m\u001b[0m\n\u001b[1;32m      7\u001b[0m       \u001b[0mlab\u001b[0m \u001b[0;34m=\u001b[0m \u001b[0mlabels\u001b[0m\u001b[0;34m[\u001b[0m\u001b[0midx\u001b[0m\u001b[0;34m]\u001b[0m\u001b[0;34m\u001b[0m\u001b[0;34m\u001b[0m\u001b[0m\n\u001b[0;32m----> 8\u001b[0;31m     \u001b[0mplt\u001b[0m\u001b[0;34m.\u001b[0m\u001b[0mplot\u001b[0m\u001b[0;34m(\u001b[0m\u001b[0mmas\u001b[0m\u001b[0;34m[\u001b[0m\u001b[0;36m0\u001b[0m\u001b[0;34m]\u001b[0m\u001b[0;34m,\u001b[0m \u001b[0mmas\u001b[0m\u001b[0;34m[\u001b[0m\u001b[0;36m1\u001b[0m\u001b[0;34m]\u001b[0m\u001b[0;34m,\u001b[0m \u001b[0mcolor\u001b[0m \u001b[0;34m=\u001b[0m \u001b[0mcolors\u001b[0m\u001b[0;34m[\u001b[0m\u001b[0midx\u001b[0m\u001b[0;34m]\u001b[0m\u001b[0;34m,\u001b[0m \u001b[0mlabel\u001b[0m \u001b[0;34m=\u001b[0m \u001b[0mlab\u001b[0m\u001b[0;34m)\u001b[0m\u001b[0;34m\u001b[0m\u001b[0;34m\u001b[0m\u001b[0m\n\u001b[0m\u001b[1;32m      9\u001b[0m   \u001b[0;32mif\u001b[0m \u001b[0;32mnot\u001b[0m \u001b[0;34m(\u001b[0m\u001b[0mlabels\u001b[0m \u001b[0;32mis\u001b[0m \u001b[0;32mNone\u001b[0m\u001b[0;34m)\u001b[0m\u001b[0;34m:\u001b[0m\u001b[0;34m\u001b[0m\u001b[0;34m\u001b[0m\u001b[0m\n\u001b[1;32m     10\u001b[0m     \u001b[0mplt\u001b[0m\u001b[0;34m.\u001b[0m\u001b[0mlegend\u001b[0m\u001b[0;34m(\u001b[0m\u001b[0mloc\u001b[0m \u001b[0;34m=\u001b[0m \u001b[0;34m'upper right'\u001b[0m\u001b[0;34m)\u001b[0m\u001b[0;34m\u001b[0m\u001b[0;34m\u001b[0m\u001b[0m\n",
            "\u001b[0;31mTypeError\u001b[0m: 'dict_keys' object is not subscriptable"
          ]
        }
      ]
    },
    {
      "cell_type": "code",
      "metadata": {
        "colab": {
          "base_uri": "https://localhost:8080/",
          "height": 130
        },
        "id": "Ehwx8-nl45Xd",
        "outputId": "e57f792b-ad5d-43a4-8060-4d82b20af313"
      },
      "source": [
        "Pr4 = triangle_FS(Spr)\n",
        "FS_plot([Pr4, title=u'Идеальное множество'])"
      ],
      "execution_count": null,
      "outputs": [
        {
          "output_type": "error",
          "ename": "SyntaxError",
          "evalue": "ignored",
          "traceback": [
            "\u001b[0;36m  File \u001b[0;32m\"<ipython-input-15-457f9e30a92a>\"\u001b[0;36m, line \u001b[0;32m2\u001b[0m\n\u001b[0;31m    FS_plot([Pr4, title=u'Идеальное множество'])\u001b[0m\n\u001b[0m                       ^\u001b[0m\n\u001b[0;31mSyntaxError\u001b[0m\u001b[0;31m:\u001b[0m invalid syntax\n"
          ]
        }
      ]
    },
    {
      "cell_type": "code",
      "metadata": {
        "colab": {
          "base_uri": "https://localhost:8080/",
          "height": 165
        },
        "id": "ckoiFDOr5Mob",
        "outputId": "cf130fb9-1bcb-4cab-9288-496a76c2680f"
      },
      "source": [
        "Pr1[25]"
      ],
      "execution_count": null,
      "outputs": [
        {
          "output_type": "error",
          "ename": "NameError",
          "evalue": "ignored",
          "traceback": [
            "\u001b[0;31m---------------------------------------------------------------------------\u001b[0m",
            "\u001b[0;31mNameError\u001b[0m                                 Traceback (most recent call last)",
            "\u001b[0;32m<ipython-input-22-242279af2a37>\u001b[0m in \u001b[0;36m<module>\u001b[0;34m()\u001b[0m\n\u001b[0;32m----> 1\u001b[0;31m \u001b[0mPr1\u001b[0m\u001b[0;34m[\u001b[0m\u001b[0;36m25\u001b[0m\u001b[0;34m]\u001b[0m\u001b[0;34m\u001b[0m\u001b[0;34m\u001b[0m\u001b[0m\n\u001b[0m",
            "\u001b[0;31mNameError\u001b[0m: name 'Pr1' is not defined"
          ]
        }
      ]
    }
  ]
}