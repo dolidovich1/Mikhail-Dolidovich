{
  "nbformat": 4,
  "nbformat_minor": 0,
  "metadata": {
    "colab": {
      "name": "Untitled1.ipynb",
      "provenance": [],
      "collapsed_sections": [],
      "toc_visible": true,
      "authorship_tag": "ABX9TyOLra9ZRsDt+Igse30RlhoT",
      "include_colab_link": true
    },
    "kernelspec": {
      "name": "python3",
      "display_name": "Python 3"
    }
  },
  "cells": [
    {
      "cell_type": "markdown",
      "metadata": {
        "id": "view-in-github",
        "colab_type": "text"
      },
      "source": [
        "<a href=\"https://colab.research.google.com/github/dolidovich1/Mikhail-Dolidovich/blob/main/Untitled1.ipynb\" target=\"_parent\"><img src=\"https://colab.research.google.com/assets/colab-badge.svg\" alt=\"Open In Colab\"/></a>"
      ]
    },
    {
      "cell_type": "markdown",
      "metadata": {
        "id": "IVb8HZiNm0nl"
      },
      "source": [
        "### Раздел 1 Форма"
      ]
    },
    {
      "cell_type": "code",
      "metadata": {
        "colab": {
          "base_uri": "https://localhost:8080/"
        },
        "id": "A4N5dM_9ehYx",
        "outputId": "815d674d-2d72-4e22-bc57-ce0d23684eb0"
      },
      "source": [
        "#@title Форма 1\r\n",
        "#@markdown <hr>\r\n",
        "#@markdown\r\n",
        "name = \"Petr Pidor\" #@param {type:\"string\"}\r\n",
        "group = \"КИ19-20Б\" #@param [\"КИ19-20Б\", \"КИ19-21Б\", \"КИ19-22Б\", \"КИ19-23Б\", \"КИ19-24Б\"]\r\n",
        "date = \"2021-02-20\" #@param {type:\"date\"}\r\n",
        "#@markdown ---\r\n",
        "#@markdown Выберите галочку чтобы вывести дополнительную информацию\r\n",
        "checked = True #@param {type:\"boolean\"}\r\n",
        "age = 20 #@param {type:\"integer\"}\r\n",
        "year_study = 1 #@param {type:\"slider\", min:\"1\", max:\"6\"}\r\n",
        "average_grade = 5 #@param {type:\"slider\", min:\"1\", max:\"5\"}\r\n",
        "\r\n",
        "if name ==\"\":\r\n",
        "  print(\"Введите имя\")\r\n",
        "else:\r\n",
        "  print(\"ФИО:\", name)\r\n",
        "  print(\"Группа:\", group)\r\n",
        "  print(\"Дата:\", date)\r\n",
        "if checked:\r\n",
        "  print(\"Возраст:\", age)\r\n",
        "  print(\"Курс:\", year_study)\r\n",
        "  print(\"Средняя оценка:\", average_grade)"
      ],
      "execution_count": null,
      "outputs": [
        {
          "output_type": "stream",
          "text": [
            "ФИО: Petr Pidor\n",
            "Группа: КИ19-20Б\n",
            "Дата: 2021-02-20\n",
            "Возраст: 20\n",
            "Курс: 1\n",
            "Средняя оценка: 5\n"
          ],
          "name": "stdout"
        }
      ]
    },
    {
      "cell_type": "markdown",
      "metadata": {
        "id": "UGbJtSSenNls"
      },
      "source": [
        "### Раздел 2 Таблица"
      ]
    },
    {
      "cell_type": "code",
      "metadata": {
        "id": "GD5d-NRunl_y"
      },
      "source": [
        "import pandas as pd"
      ],
      "execution_count": 1,
      "outputs": []
    },
    {
      "cell_type": "code",
      "metadata": {
        "id": "4eIFzqGQn5tw"
      },
      "source": [
        "data1 = pd.read_csv(\"/content/sample_data/california_housing_test.csv\")"
      ],
      "execution_count": 2,
      "outputs": []
    },
    {
      "cell_type": "code",
      "metadata": {
        "colab": {
          "base_uri": "https://localhost:8080/"
        },
        "id": "j37q1jScpeKc",
        "outputId": "f47397b2-2bee-4ff0-ae91-60524f8dbd7e"
      },
      "source": [
        "print(data1)"
      ],
      "execution_count": 3,
      "outputs": [
        {
          "output_type": "stream",
          "text": [
            "      longitude  latitude  ...  median_income  median_house_value\n",
            "0       -122.05     37.37  ...         6.6085            344700.0\n",
            "1       -118.30     34.26  ...         3.5990            176500.0\n",
            "2       -117.81     33.78  ...         5.7934            270500.0\n",
            "3       -118.36     33.82  ...         6.1359            330000.0\n",
            "4       -119.67     36.33  ...         2.9375             81700.0\n",
            "...         ...       ...  ...            ...                 ...\n",
            "2995    -119.86     34.42  ...         1.1790            225000.0\n",
            "2996    -118.14     34.06  ...         3.3906            237200.0\n",
            "2997    -119.70     36.30  ...         2.2895             62000.0\n",
            "2998    -117.12     34.10  ...         3.2708            162500.0\n",
            "2999    -119.63     34.42  ...         8.5608            500001.0\n",
            "\n",
            "[3000 rows x 9 columns]\n"
          ],
          "name": "stdout"
        }
      ]
    },
    {
      "cell_type": "code",
      "metadata": {
        "id": "m0vQJodRqb1q"
      },
      "source": [
        "data2 = pd.read_csv(\"/content/sample_data/mnist_test.csv\")"
      ],
      "execution_count": 4,
      "outputs": []
    },
    {
      "cell_type": "code",
      "metadata": {
        "colab": {
          "base_uri": "https://localhost:8080/"
        },
        "id": "8mUJqaQiqtqv",
        "outputId": "83e69868-e6d2-422b-9e56-3fd0d77a5e37"
      },
      "source": [
        "print(data2)"
      ],
      "execution_count": 5,
      "outputs": [
        {
          "output_type": "stream",
          "text": [
            "      7  0  0.1  0.2  0.3  0.4  ...  0.662  0.663  0.664  0.665  0.666  0.667\n",
            "0     2  0    0    0    0    0  ...      0      0      0      0      0      0\n",
            "1     1  0    0    0    0    0  ...      0      0      0      0      0      0\n",
            "2     0  0    0    0    0    0  ...      0      0      0      0      0      0\n",
            "3     4  0    0    0    0    0  ...      0      0      0      0      0      0\n",
            "4     1  0    0    0    0    0  ...      0      0      0      0      0      0\n",
            "...  .. ..  ...  ...  ...  ...  ...    ...    ...    ...    ...    ...    ...\n",
            "9994  2  0    0    0    0    0  ...      0      0      0      0      0      0\n",
            "9995  3  0    0    0    0    0  ...      0      0      0      0      0      0\n",
            "9996  4  0    0    0    0    0  ...      0      0      0      0      0      0\n",
            "9997  5  0    0    0    0    0  ...      0      0      0      0      0      0\n",
            "9998  6  0    0    0    0    0  ...      0      0      0      0      0      0\n",
            "\n",
            "[9999 rows x 785 columns]\n"
          ],
          "name": "stdout"
        }
      ]
    },
    {
      "cell_type": "markdown",
      "metadata": {
        "id": "jhFWGrbMeim8"
      },
      "source": [
        "Долидович М.А. КИ19-20Б. 20.02.2021"
      ]
    },
    {
      "cell_type": "code",
      "metadata": {
        "colab": {
          "base_uri": "https://localhost:8080/"
        },
        "id": "cC5Ztm9PP2i6",
        "outputId": "ecf212c5-2245-4a3b-98f7-56dab3692201"
      },
      "source": [
        "#@title CheckCSV\r\n",
        "#@markdown —-\r\n",
        "File = \"mnist_Test\"#@param [\"mnist_Test\",\"california\"]\r\n",
        "WithGoogleTable = True #@param {type:\"boolean\"}\r\n",
        "if File == \"mnist_Test\" and WithGoogleTable == True:\r\n",
        "  %load_ext google.colab.data_table\r\n",
        "  data1 = pd.read_csv(\"/content/sample_data/mnist_test.csv\",header=None)\r\n",
        "elif File == \"mnist_Test\" and WithGoogleTable == False:\r\n",
        "  data1 = pd.read_csv(\"/content/sample_data/mnist_test.csv\",header=None)\r\n",
        "elif File == \"california\" and WithGoogleTable == True:\r\n",
        "  %load_ext google.colab.data_table\r\n",
        "  data1 = pd.read_csv(\"/content/sample_data/california_housing_test.csv\")\r\n",
        "else:\r\n",
        "  data1 = pd.read_csv(\"/content/sample_data/california_housing_test.csv\")"
      ],
      "execution_count": 16,
      "outputs": [
        {
          "output_type": "stream",
          "text": [
            "The google.colab.data_table extension is already loaded. To reload it, use:\n",
            "  %reload_ext google.colab.data_table\n"
          ],
          "name": "stdout"
        }
      ]
    },
    {
      "cell_type": "markdown",
      "metadata": {
        "id": "2Ln1-10ZSJZ0"
      },
      "source": [
        "Долидович М.А. КИ19-20Б"
      ]
    },
    {
      "cell_type": "code",
      "metadata": {
        "colab": {
          "base_uri": "https://localhost:8080/"
        },
        "id": "LELdW1lNRJt2",
        "outputId": "e93ff188-b730-4c39-bd75-b9a9455be8ff"
      },
      "source": [
        "print(data1)"
      ],
      "execution_count": 17,
      "outputs": [
        {
          "output_type": "stream",
          "text": [
            "      0    1    2    3    4    5    6    ...  778  779  780  781  782  783  784\n",
            "0       7    0    0    0    0    0    0  ...    0    0    0    0    0    0    0\n",
            "1       2    0    0    0    0    0    0  ...    0    0    0    0    0    0    0\n",
            "2       1    0    0    0    0    0    0  ...    0    0    0    0    0    0    0\n",
            "3       0    0    0    0    0    0    0  ...    0    0    0    0    0    0    0\n",
            "4       4    0    0    0    0    0    0  ...    0    0    0    0    0    0    0\n",
            "...   ...  ...  ...  ...  ...  ...  ...  ...  ...  ...  ...  ...  ...  ...  ...\n",
            "9995    2    0    0    0    0    0    0  ...    0    0    0    0    0    0    0\n",
            "9996    3    0    0    0    0    0    0  ...    0    0    0    0    0    0    0\n",
            "9997    4    0    0    0    0    0    0  ...    0    0    0    0    0    0    0\n",
            "9998    5    0    0    0    0    0    0  ...    0    0    0    0    0    0    0\n",
            "9999    6    0    0    0    0    0    0  ...    0    0    0    0    0    0    0\n",
            "\n",
            "[10000 rows x 785 columns]\n"
          ],
          "name": "stdout"
        }
      ]
    }
  ]
}