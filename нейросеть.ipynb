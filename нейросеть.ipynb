{
  "nbformat": 4,
  "nbformat_minor": 0,
  "metadata": {
    "colab": {
      "name": "нейросеть.ipynb",
      "provenance": [],
      "authorship_tag": "ABX9TyO8tQyI36ugaGM28TZuD5dY",
      "include_colab_link": true
    },
    "kernelspec": {
      "name": "python3",
      "display_name": "Python 3"
    },
    "language_info": {
      "name": "python"
    }
  },
  "cells": [
    {
      "cell_type": "markdown",
      "metadata": {
        "id": "view-in-github",
        "colab_type": "text"
      },
      "source": [
        "<a href=\"https://colab.research.google.com/github/dolidovich1/Mikhail-Dolidovich/blob/main/%D0%BD%D0%B5%D0%B9%D1%80%D0%BE%D1%81%D0%B5%D1%82%D1%8C.ipynb\" target=\"_parent\"><img src=\"https://colab.research.google.com/assets/colab-badge.svg\" alt=\"Open In Colab\"/></a>"
      ]
    },
    {
      "cell_type": "code",
      "metadata": {
        "id": "qdhqO48AtT-9"
      },
      "source": [
        "import os\n",
        "os.environ['TF_CPP_MIN_LOG_LEVEL']='2'\n",
        "import numpy as np\n",
        "import matplotlib.pyplot as plt\n",
        "from tensorflow import keras\n",
        "from tensorflow.keras.layers import Dense"
      ],
      "execution_count": null,
      "outputs": []
    },
    {
      "cell_type": "code",
      "metadata": {
        "id": "_9t2-XADtwMT"
      },
      "source": [
        "def f1(x):\n",
        "    return 0.5*x-3\n",
        "def df (x):\n",
        "    return 1/2"
      ],
      "execution_count": null,
      "outputs": []
    },
    {
      "cell_type": "code",
      "metadata": {
        "id": "f5oZYfxKt0VT"
      },
      "source": [
        "c = np.array([1.2,2.1,3.6,4.3,5.8])\n",
        "f = np.array([-2.4,-1.95,-1.2,-0.85,-0.1])\n",
        " \n",
        "model = keras.Sequential()\n",
        "model.add(Dense(units=1,input_shape=(1,),activation='linear'))\n",
        "model.compile(loss='mean_squared_error', optimizer = keras.optimizers.Adam(0.1))\n",
        " \n",
        "history = model.fit(c, f, epochs=150, verbose = 0)"
      ],
      "execution_count": null,
      "outputs": []
    },
    {
      "cell_type": "code",
      "metadata": {
        "colab": {
          "base_uri": "https://localhost:8080/",
          "height": 282
        },
        "id": "jN5uEGUPt4BA",
        "outputId": "c1c31667-ad90-4392-da9d-67a2083cc583"
      },
      "source": [
        "plt.plot(history.history['loss'])\n",
        "plt.grid(True)\n",
        "plt.show"
      ],
      "execution_count": null,
      "outputs": [
        {
          "output_type": "execute_result",
          "data": {
            "text/plain": [
              "<function matplotlib.pyplot.show>"
            ]
          },
          "metadata": {
            "tags": []
          },
          "execution_count": 4
        },
        {
          "output_type": "display_data",
          "data": {
            "image/png": "[encoded data removed]",
            "text/plain": [
              "<Figure size 432x288 with 1 Axes>"
            ]
          },
          "metadata": {
            "tags": [],
            "needs_background": "light"
          }
        }
      ]
    },
    {
      "cell_type": "code",
      "metadata": {
        "colab": {
          "base_uri": "https://localhost:8080/"
        },
        "id": "NnEy1jQpt6xn",
        "outputId": "a5c8bba0-e7bb-4173-8f48-dc4acfc1b317"
      },
      "source": [
        "print(f1(50.458))\n",
        "print(model.predict([50.458]))"
      ],
      "execution_count": null,
      "outputs": [
        {
          "output_type": "stream",
          "text": [
            "22.229\n",
            "[[19.058748]]\n"
          ],
          "name": "stdout"
        }
      ]
    },
    {
      "cell_type": "code",
      "metadata": {
        "colab": {
          "base_uri": "https://localhost:8080/"
        },
        "id": "G3vgGCkft83g",
        "outputId": "c71dcbb1-0460-458b-ff96-556e31bdafdd"
      },
      "source": [
        "print(model.get_weights())"
      ],
      "execution_count": null,
      "outputs": [
        {
          "output_type": "stream",
          "text": [
            "[array([[0.43179128]], dtype=float32), array([-2.7285767], dtype=float32)]\n"
          ],
          "name": "stdout"
        }
      ]
    }
  ]
}