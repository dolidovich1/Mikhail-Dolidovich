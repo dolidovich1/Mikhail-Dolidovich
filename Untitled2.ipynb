{
  "nbformat": 4,
  "nbformat_minor": 0,
  "metadata": {
    "colab": {
      "name": "Untitled2.ipynb",
      "provenance": [],
      "collapsed_sections": [],
      "toc_visible": true,
      "include_colab_link": true
    },
    "kernelspec": {
      "name": "python3",
      "display_name": "Python 3"
    },
    "widgets": {
      "application/vnd.jupyter.widget-state+json": {
        "141e5031cee14b67b7085ec106aba254": {
          "model_module": "@jupyter-widgets/controls",
          "model_name": "IntSliderModel",
          "state": {
            "_view_name": "IntSliderView",
            "style": "IPY_MODEL_1535a3f23fc24ca5a62ba7e22cdaf9fd",
            "_dom_classes": [],
            "description": "",
            "step": 1,
            "_model_name": "IntSliderModel",
            "orientation": "horizontal",
            "max": 100,
            "_view_module": "@jupyter-widgets/controls",
            "_model_module_version": "1.5.0",
            "value": 84,
            "_view_count": null,
            "disabled": false,
            "_view_module_version": "1.5.0",
            "min": 0,
            "continuous_update": true,
            "readout_format": "d",
            "description_tooltip": null,
            "readout": true,
            "_model_module": "@jupyter-widgets/controls",
            "layout": "IPY_MODEL_db156de8e08d4eccba37f88d9ffb4835"
          }
        },
        "1535a3f23fc24ca5a62ba7e22cdaf9fd": {
          "model_module": "@jupyter-widgets/controls",
          "model_name": "SliderStyleModel",
          "state": {
            "_view_name": "StyleView",
            "handle_color": null,
            "_model_name": "SliderStyleModel",
            "description_width": "",
            "_view_module": "@jupyter-widgets/base",
            "_model_module_version": "1.5.0",
            "_view_count": null,
            "_view_module_version": "1.2.0",
            "_model_module": "@jupyter-widgets/controls"
          }
        },
        "db156de8e08d4eccba37f88d9ffb4835": {
          "model_module": "@jupyter-widgets/base",
          "model_name": "LayoutModel",
          "state": {
            "_view_name": "LayoutView",
            "grid_template_rows": null,
            "right": null,
            "justify_content": null,
            "_view_module": "@jupyter-widgets/base",
            "overflow": null,
            "_model_module_version": "1.2.0",
            "_view_count": null,
            "flex_flow": null,
            "width": null,
            "min_width": null,
            "border": null,
            "align_items": null,
            "bottom": null,
            "_model_module": "@jupyter-widgets/base",
            "top": null,
            "grid_column": null,
            "overflow_y": null,
            "overflow_x": null,
            "grid_auto_flow": null,
            "grid_area": null,
            "grid_template_columns": null,
            "flex": null,
            "_model_name": "LayoutModel",
            "justify_items": null,
            "grid_row": null,
            "max_height": null,
            "align_content": null,
            "visibility": null,
            "align_self": null,
            "height": null,
            "min_height": null,
            "padding": null,
            "grid_auto_rows": null,
            "grid_gap": null,
            "max_width": null,
            "order": null,
            "_view_module_version": "1.2.0",
            "grid_template_areas": null,
            "object_position": null,
            "object_fit": null,
            "grid_auto_columns": null,
            "margin": null,
            "display": null,
            "left": null
          }
        },
        "7289d06eccf04ffc82f92bfade5df519": {
          "model_module": "@jupyter-widgets/controls",
          "model_name": "ButtonModel",
          "state": {
            "_view_name": "ButtonView",
            "style": "IPY_MODEL_2462e91a61a9458dae3171ec707fdc6b",
            "_dom_classes": [],
            "description": "Song!",
            "_model_name": "ButtonModel",
            "button_style": "",
            "_view_module": "@jupyter-widgets/controls",
            "_model_module_version": "1.5.0",
            "tooltip": "",
            "_view_count": null,
            "disabled": false,
            "_view_module_version": "1.5.0",
            "layout": "IPY_MODEL_115c51b5c62c4a5da4eee54c4b78a8c1",
            "_model_module": "@jupyter-widgets/controls",
            "icon": ""
          }
        },
        "2462e91a61a9458dae3171ec707fdc6b": {
          "model_module": "@jupyter-widgets/controls",
          "model_name": "ButtonStyleModel",
          "state": {
            "_view_name": "StyleView",
            "_model_name": "ButtonStyleModel",
            "_view_module": "@jupyter-widgets/base",
            "_model_module_version": "1.5.0",
            "_view_count": null,
            "button_color": null,
            "font_weight": "",
            "_view_module_version": "1.2.0",
            "_model_module": "@jupyter-widgets/controls"
          }
        },
        "115c51b5c62c4a5da4eee54c4b78a8c1": {
          "model_module": "@jupyter-widgets/base",
          "model_name": "LayoutModel",
          "state": {
            "_view_name": "LayoutView",
            "grid_template_rows": null,
            "right": null,
            "justify_content": null,
            "_view_module": "@jupyter-widgets/base",
            "overflow": null,
            "_model_module_version": "1.2.0",
            "_view_count": null,
            "flex_flow": null,
            "width": null,
            "min_width": null,
            "border": null,
            "align_items": null,
            "bottom": null,
            "_model_module": "@jupyter-widgets/base",
            "top": null,
            "grid_column": null,
            "overflow_y": null,
            "overflow_x": null,
            "grid_auto_flow": null,
            "grid_area": null,
            "grid_template_columns": null,
            "flex": null,
            "_model_name": "LayoutModel",
            "justify_items": null,
            "grid_row": null,
            "max_height": null,
            "align_content": null,
            "visibility": null,
            "align_self": null,
            "height": null,
            "min_height": null,
            "padding": null,
            "grid_auto_rows": null,
            "grid_gap": null,
            "max_width": null,
            "order": null,
            "_view_module_version": "1.2.0",
            "grid_template_areas": null,
            "object_position": null,
            "object_fit": null,
            "grid_auto_columns": null,
            "margin": null,
            "display": null,
            "left": null
          }
        },
        "a5950e224f2e49e882cc3ad0905c5a09": {
          "model_module": "@jupyter-widgets/output",
          "model_name": "OutputModel",
          "state": {
            "_view_name": "OutputView",
            "msg_id": "",
            "_dom_classes": [],
            "_model_name": "OutputModel",
            "outputs": [],
            "_view_module": "@jupyter-widgets/output",
            "_model_module_version": "1.0.0",
            "_view_count": null,
            "_view_module_version": "1.0.0",
            "layout": "IPY_MODEL_7e9d19f87a6c43c8957523251cce44a4",
            "_model_module": "@jupyter-widgets/output"
          }
        },
        "7e9d19f87a6c43c8957523251cce44a4": {
          "model_module": "@jupyter-widgets/base",
          "model_name": "LayoutModel",
          "state": {
            "_view_name": "LayoutView",
            "grid_template_rows": null,
            "right": null,
            "justify_content": null,
            "_view_module": "@jupyter-widgets/base",
            "overflow": null,
            "_model_module_version": "1.2.0",
            "_view_count": null,
            "flex_flow": null,
            "width": null,
            "min_width": null,
            "border": null,
            "align_items": null,
            "bottom": null,
            "_model_module": "@jupyter-widgets/base",
            "top": null,
            "grid_column": null,
            "overflow_y": null,
            "overflow_x": null,
            "grid_auto_flow": null,
            "grid_area": null,
            "grid_template_columns": null,
            "flex": null,
            "_model_name": "LayoutModel",
            "justify_items": null,
            "grid_row": null,
            "max_height": null,
            "align_content": null,
            "visibility": null,
            "align_self": null,
            "height": null,
            "min_height": null,
            "padding": null,
            "grid_auto_rows": null,
            "grid_gap": null,
            "max_width": null,
            "order": null,
            "_view_module_version": "1.2.0",
            "grid_template_areas": null,
            "object_position": null,
            "object_fit": null,
            "grid_auto_columns": null,
            "margin": null,
            "display": null,
            "left": null
          }
        },
        "2ee0d3ffd2d547418350b0734575414b": {
          "model_module": "@jupyter-widgets/controls",
          "model_name": "TextModel",
          "state": {
            "_view_name": "TextView",
            "style": "IPY_MODEL_d44ac91f7ec94ccab0dee091b7c747df",
            "_dom_classes": [],
            "description": "",
            "_model_name": "TextModel",
            "placeholder": "​",
            "_view_module": "@jupyter-widgets/controls",
            "_model_module_version": "1.5.0",
            "value": "The greatest coder in the world",
            "_view_count": null,
            "disabled": false,
            "_view_module_version": "1.5.0",
            "continuous_update": true,
            "description_tooltip": null,
            "_model_module": "@jupyter-widgets/controls",
            "layout": "IPY_MODEL_ed685c85aaf144cc808c82c7ea68572d"
          }
        },
        "d44ac91f7ec94ccab0dee091b7c747df": {
          "model_module": "@jupyter-widgets/controls",
          "model_name": "DescriptionStyleModel",
          "state": {
            "_view_name": "StyleView",
            "_model_name": "DescriptionStyleModel",
            "description_width": "",
            "_view_module": "@jupyter-widgets/base",
            "_model_module_version": "1.5.0",
            "_view_count": null,
            "_view_module_version": "1.2.0",
            "_model_module": "@jupyter-widgets/controls"
          }
        },
        "ed685c85aaf144cc808c82c7ea68572d": {
          "model_module": "@jupyter-widgets/base",
          "model_name": "LayoutModel",
          "state": {
            "_view_name": "LayoutView",
            "grid_template_rows": null,
            "right": null,
            "justify_content": null,
            "_view_module": "@jupyter-widgets/base",
            "overflow": null,
            "_model_module_version": "1.2.0",
            "_view_count": null,
            "flex_flow": null,
            "width": null,
            "min_width": null,
            "border": null,
            "align_items": null,
            "bottom": null,
            "_model_module": "@jupyter-widgets/base",
            "top": null,
            "grid_column": null,
            "overflow_y": null,
            "overflow_x": null,
            "grid_auto_flow": null,
            "grid_area": null,
            "grid_template_columns": null,
            "flex": null,
            "_model_name": "LayoutModel",
            "justify_items": null,
            "grid_row": null,
            "max_height": null,
            "align_content": null,
            "visibility": null,
            "align_self": null,
            "height": null,
            "min_height": null,
            "padding": null,
            "grid_auto_rows": null,
            "grid_gap": null,
            "max_width": null,
            "order": null,
            "_view_module_version": "1.2.0",
            "grid_template_areas": null,
            "object_position": null,
            "object_fit": null,
            "grid_auto_columns": null,
            "margin": null,
            "display": null,
            "left": null
          }
        },
        "c647d7450eda48c29bd7be1a38180a3d": {
          "model_module": "@jupyter-widgets/controls",
          "model_name": "IntProgressModel",
          "state": {
            "_view_name": "ProgressView",
            "style": "IPY_MODEL_e354986235544c2a9ccfb5b9c54f1bf0",
            "_dom_classes": [],
            "description": "Booty...",
            "_model_name": "IntProgressModel",
            "bar_style": "danger",
            "max": 100,
            "_view_module": "@jupyter-widgets/controls",
            "_model_module_version": "1.5.0",
            "value": 100,
            "_view_count": null,
            "_view_module_version": "1.5.0",
            "orientation": "horizontal",
            "min": 1,
            "description_tooltip": null,
            "_model_module": "@jupyter-widgets/controls",
            "layout": "IPY_MODEL_12263599dd2347d09152e87b80f8ecbd"
          }
        },
        "e354986235544c2a9ccfb5b9c54f1bf0": {
          "model_module": "@jupyter-widgets/controls",
          "model_name": "ProgressStyleModel",
          "state": {
            "_view_name": "StyleView",
            "_model_name": "ProgressStyleModel",
            "description_width": "",
            "_view_module": "@jupyter-widgets/base",
            "_model_module_version": "1.5.0",
            "_view_count": null,
            "_view_module_version": "1.2.0",
            "bar_color": null,
            "_model_module": "@jupyter-widgets/controls"
          }
        },
        "12263599dd2347d09152e87b80f8ecbd": {
          "model_module": "@jupyter-widgets/base",
          "model_name": "LayoutModel",
          "state": {
            "_view_name": "LayoutView",
            "grid_template_rows": null,
            "right": null,
            "justify_content": null,
            "_view_module": "@jupyter-widgets/base",
            "overflow": null,
            "_model_module_version": "1.2.0",
            "_view_count": null,
            "flex_flow": null,
            "width": null,
            "min_width": null,
            "border": null,
            "align_items": null,
            "bottom": null,
            "_model_module": "@jupyter-widgets/base",
            "top": null,
            "grid_column": null,
            "overflow_y": null,
            "overflow_x": null,
            "grid_auto_flow": null,
            "grid_area": null,
            "grid_template_columns": null,
            "flex": null,
            "_model_name": "LayoutModel",
            "justify_items": null,
            "grid_row": null,
            "max_height": null,
            "align_content": null,
            "visibility": null,
            "align_self": null,
            "height": null,
            "min_height": null,
            "padding": null,
            "grid_auto_rows": null,
            "grid_gap": null,
            "max_width": null,
            "order": null,
            "_view_module_version": "1.2.0",
            "grid_template_areas": null,
            "object_position": null,
            "object_fit": null,
            "grid_auto_columns": null,
            "margin": null,
            "display": null,
            "left": null
          }
        },
        "f13abc6d2ff64d9fbfa00b60eaf35315": {
          "model_module": "@jupyter-widgets/controls",
          "model_name": "VBoxModel",
          "state": {
            "_view_name": "VBoxView",
            "_dom_classes": [
              "widget-interact"
            ],
            "_model_name": "VBoxModel",
            "_view_module": "@jupyter-widgets/controls",
            "_model_module_version": "1.5.0",
            "_view_count": null,
            "_view_module_version": "1.5.0",
            "box_style": "",
            "layout": "IPY_MODEL_e8cf66ff06bc4a46872d8b952e81bf47",
            "_model_module": "@jupyter-widgets/controls",
            "children": [
              "IPY_MODEL_02ca41973afe448a99b58b9b7a21ba47",
              "IPY_MODEL_882aee6f1e8b494db73c107fb821d81c",
              "IPY_MODEL_e2e3cfe284bf49b1925010d3d2c5f4e3",
              "IPY_MODEL_4d4c1fa5ac554a58b4bb9e59ea9ab839"
            ]
          }
        },
        "e8cf66ff06bc4a46872d8b952e81bf47": {
          "model_module": "@jupyter-widgets/base",
          "model_name": "LayoutModel",
          "state": {
            "_view_name": "LayoutView",
            "grid_template_rows": null,
            "right": null,
            "justify_content": null,
            "_view_module": "@jupyter-widgets/base",
            "overflow": null,
            "_model_module_version": "1.2.0",
            "_view_count": null,
            "flex_flow": null,
            "width": null,
            "min_width": null,
            "border": null,
            "align_items": null,
            "bottom": null,
            "_model_module": "@jupyter-widgets/base",
            "top": null,
            "grid_column": null,
            "overflow_y": null,
            "overflow_x": null,
            "grid_auto_flow": null,
            "grid_area": null,
            "grid_template_columns": null,
            "flex": null,
            "_model_name": "LayoutModel",
            "justify_items": null,
            "grid_row": null,
            "max_height": null,
            "align_content": null,
            "visibility": null,
            "align_self": null,
            "height": null,
            "min_height": null,
            "padding": null,
            "grid_auto_rows": null,
            "grid_gap": null,
            "max_width": null,
            "order": null,
            "_view_module_version": "1.2.0",
            "grid_template_areas": null,
            "object_position": null,
            "object_fit": null,
            "grid_auto_columns": null,
            "margin": null,
            "display": null,
            "left": null
          }
        },
        "02ca41973afe448a99b58b9b7a21ba47": {
          "model_module": "@jupyter-widgets/controls",
          "model_name": "IntSliderModel",
          "state": {
            "_view_name": "IntSliderView",
            "style": "IPY_MODEL_1b2a81ae6c5b4d82a72f112e8d6083dc",
            "_dom_classes": [],
            "description": "w",
            "step": 1,
            "_model_name": "IntSliderModel",
            "orientation": "horizontal",
            "max": 10,
            "_view_module": "@jupyter-widgets/controls",
            "_model_module_version": "1.5.0",
            "value": 5,
            "_view_count": null,
            "disabled": false,
            "_view_module_version": "1.5.0",
            "min": 0,
            "continuous_update": true,
            "readout_format": "d",
            "description_tooltip": null,
            "readout": true,
            "_model_module": "@jupyter-widgets/controls",
            "layout": "IPY_MODEL_4826793263f3471cbda9ec34bef3bdc6"
          }
        },
        "882aee6f1e8b494db73c107fb821d81c": {
          "model_module": "@jupyter-widgets/controls",
          "model_name": "FloatSliderModel",
          "state": {
            "_view_name": "FloatSliderView",
            "style": "IPY_MODEL_2642b28f07094de693e07b9044dda09f",
            "_dom_classes": [],
            "description": "amp",
            "step": 0.1,
            "_model_name": "FloatSliderModel",
            "orientation": "horizontal",
            "max": 4,
            "_view_module": "@jupyter-widgets/controls",
            "_model_module_version": "1.5.0",
            "value": 2,
            "_view_count": null,
            "disabled": false,
            "_view_module_version": "1.5.0",
            "min": 0,
            "continuous_update": true,
            "readout_format": ".2f",
            "description_tooltip": null,
            "readout": true,
            "_model_module": "@jupyter-widgets/controls",
            "layout": "IPY_MODEL_d910344451094f089e3bd4ee28841b50"
          }
        },
        "e2e3cfe284bf49b1925010d3d2c5f4e3": {
          "model_module": "@jupyter-widgets/controls",
          "model_name": "FloatSliderModel",
          "state": {
            "_view_name": "FloatSliderView",
            "style": "IPY_MODEL_a225b0c1406e482a9f0c7738bd146716",
            "_dom_classes": [],
            "description": "phi",
            "step": 0.01,
            "_model_name": "FloatSliderModel",
            "orientation": "horizontal",
            "max": 6.293185307179586,
            "_view_module": "@jupyter-widgets/controls",
            "_model_module_version": "1.5.0",
            "value": 3.14,
            "_view_count": null,
            "disabled": false,
            "_view_module_version": "1.5.0",
            "min": 0,
            "continuous_update": true,
            "readout_format": ".2f",
            "description_tooltip": null,
            "readout": true,
            "_model_module": "@jupyter-widgets/controls",
            "layout": "IPY_MODEL_bc6e9fc69b5a48b68272bec1ef4fa4e5"
          }
        },
        "4d4c1fa5ac554a58b4bb9e59ea9ab839": {
          "model_module": "@jupyter-widgets/output",
          "model_name": "OutputModel",
          "state": {
            "_view_name": "OutputView",
            "msg_id": "",
            "_dom_classes": [],
            "_model_name": "OutputModel",
            "outputs": [
              {
                "output_type": "stream",
                "metadata": {
                  "tags": []
                },
                "text": "5 2.0 3.14\n",
                "stream": "stdout"
              },
              {
                "output_type": "display_data",
                "metadata": {
                  "tags": [],
                  "needs_background": "light"
                },
                "image/png": "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\n",
                "text/plain": "<Figure size 432x288 with 1 Axes>"
              }
            ],
            "_view_module": "@jupyter-widgets/output",
            "_model_module_version": "1.0.0",
            "_view_count": null,
            "_view_module_version": "1.0.0",
            "layout": "IPY_MODEL_d015f50fcd504089b60599077ebfa445",
            "_model_module": "@jupyter-widgets/output"
          }
        },
        "1b2a81ae6c5b4d82a72f112e8d6083dc": {
          "model_module": "@jupyter-widgets/controls",
          "model_name": "SliderStyleModel",
          "state": {
            "_view_name": "StyleView",
            "handle_color": null,
            "_model_name": "SliderStyleModel",
            "description_width": "",
            "_view_module": "@jupyter-widgets/base",
            "_model_module_version": "1.5.0",
            "_view_count": null,
            "_view_module_version": "1.2.0",
            "_model_module": "@jupyter-widgets/controls"
          }
        },
        "4826793263f3471cbda9ec34bef3bdc6": {
          "model_module": "@jupyter-widgets/base",
          "model_name": "LayoutModel",
          "state": {
            "_view_name": "LayoutView",
            "grid_template_rows": null,
            "right": null,
            "justify_content": null,
            "_view_module": "@jupyter-widgets/base",
            "overflow": null,
            "_model_module_version": "1.2.0",
            "_view_count": null,
            "flex_flow": null,
            "width": null,
            "min_width": null,
            "border": null,
            "align_items": null,
            "bottom": null,
            "_model_module": "@jupyter-widgets/base",
            "top": null,
            "grid_column": null,
            "overflow_y": null,
            "overflow_x": null,
            "grid_auto_flow": null,
            "grid_area": null,
            "grid_template_columns": null,
            "flex": null,
            "_model_name": "LayoutModel",
            "justify_items": null,
            "grid_row": null,
            "max_height": null,
            "align_content": null,
            "visibility": null,
            "align_self": null,
            "height": null,
            "min_height": null,
            "padding": null,
            "grid_auto_rows": null,
            "grid_gap": null,
            "max_width": null,
            "order": null,
            "_view_module_version": "1.2.0",
            "grid_template_areas": null,
            "object_position": null,
            "object_fit": null,
            "grid_auto_columns": null,
            "margin": null,
            "display": null,
            "left": null
          }
        },
        "2642b28f07094de693e07b9044dda09f": {
          "model_module": "@jupyter-widgets/controls",
          "model_name": "SliderStyleModel",
          "state": {
            "_view_name": "StyleView",
            "handle_color": null,
            "_model_name": "SliderStyleModel",
            "description_width": "",
            "_view_module": "@jupyter-widgets/base",
            "_model_module_version": "1.5.0",
            "_view_count": null,
            "_view_module_version": "1.2.0",
            "_model_module": "@jupyter-widgets/controls"
          }
        },
        "d910344451094f089e3bd4ee28841b50": {
          "model_module": "@jupyter-widgets/base",
          "model_name": "LayoutModel",
          "state": {
            "_view_name": "LayoutView",
            "grid_template_rows": null,
            "right": null,
            "justify_content": null,
            "_view_module": "@jupyter-widgets/base",
            "overflow": null,
            "_model_module_version": "1.2.0",
            "_view_count": null,
            "flex_flow": null,
            "width": null,
            "min_width": null,
            "border": null,
            "align_items": null,
            "bottom": null,
            "_model_module": "@jupyter-widgets/base",
            "top": null,
            "grid_column": null,
            "overflow_y": null,
            "overflow_x": null,
            "grid_auto_flow": null,
            "grid_area": null,
            "grid_template_columns": null,
            "flex": null,
            "_model_name": "LayoutModel",
            "justify_items": null,
            "grid_row": null,
            "max_height": null,
            "align_content": null,
            "visibility": null,
            "align_self": null,
            "height": null,
            "min_height": null,
            "padding": null,
            "grid_auto_rows": null,
            "grid_gap": null,
            "max_width": null,
            "order": null,
            "_view_module_version": "1.2.0",
            "grid_template_areas": null,
            "object_position": null,
            "object_fit": null,
            "grid_auto_columns": null,
            "margin": null,
            "display": null,
            "left": null
          }
        },
        "a225b0c1406e482a9f0c7738bd146716": {
          "model_module": "@jupyter-widgets/controls",
          "model_name": "SliderStyleModel",
          "state": {
            "_view_name": "StyleView",
            "handle_color": null,
            "_model_name": "SliderStyleModel",
            "description_width": "",
            "_view_module": "@jupyter-widgets/base",
            "_model_module_version": "1.5.0",
            "_view_count": null,
            "_view_module_version": "1.2.0",
            "_model_module": "@jupyter-widgets/controls"
          }
        },
        "bc6e9fc69b5a48b68272bec1ef4fa4e5": {
          "model_module": "@jupyter-widgets/base",
          "model_name": "LayoutModel",
          "state": {
            "_view_name": "LayoutView",
            "grid_template_rows": null,
            "right": null,
            "justify_content": null,
            "_view_module": "@jupyter-widgets/base",
            "overflow": null,
            "_model_module_version": "1.2.0",
            "_view_count": null,
            "flex_flow": null,
            "width": null,
            "min_width": null,
            "border": null,
            "align_items": null,
            "bottom": null,
            "_model_module": "@jupyter-widgets/base",
            "top": null,
            "grid_column": null,
            "overflow_y": null,
            "overflow_x": null,
            "grid_auto_flow": null,
            "grid_area": null,
            "grid_template_columns": null,
            "flex": null,
            "_model_name": "LayoutModel",
            "justify_items": null,
            "grid_row": null,
            "max_height": null,
            "align_content": null,
            "visibility": null,
            "align_self": null,
            "height": null,
            "min_height": null,
            "padding": null,
            "grid_auto_rows": null,
            "grid_gap": null,
            "max_width": null,
            "order": null,
            "_view_module_version": "1.2.0",
            "grid_template_areas": null,
            "object_position": null,
            "object_fit": null,
            "grid_auto_columns": null,
            "margin": null,
            "display": null,
            "left": null
          }
        },
        "d015f50fcd504089b60599077ebfa445": {
          "model_module": "@jupyter-widgets/base",
          "model_name": "LayoutModel",
          "state": {
            "_view_name": "LayoutView",
            "grid_template_rows": null,
            "right": null,
            "justify_content": null,
            "_view_module": "@jupyter-widgets/base",
            "overflow": null,
            "_model_module_version": "1.2.0",
            "_view_count": null,
            "flex_flow": null,
            "width": null,
            "min_width": null,
            "border": null,
            "align_items": null,
            "bottom": null,
            "_model_module": "@jupyter-widgets/base",
            "top": null,
            "grid_column": null,
            "overflow_y": null,
            "overflow_x": null,
            "grid_auto_flow": null,
            "grid_area": null,
            "grid_template_columns": null,
            "flex": null,
            "_model_name": "LayoutModel",
            "justify_items": null,
            "grid_row": null,
            "max_height": null,
            "align_content": null,
            "visibility": null,
            "align_self": null,
            "height": null,
            "min_height": null,
            "padding": null,
            "grid_auto_rows": null,
            "grid_gap": null,
            "max_width": null,
            "order": null,
            "_view_module_version": "1.2.0",
            "grid_template_areas": null,
            "object_position": null,
            "object_fit": null,
            "grid_auto_columns": null,
            "margin": null,
            "display": null,
            "left": null
          }
        },
        "299b2fdb51154ffc9f36c12a61aa1b64": {
          "model_module": "@jupyter-widgets/controls",
          "model_name": "ButtonModel",
          "state": {
            "_view_name": "ButtonView",
            "style": "IPY_MODEL_dac02b7c47de4e99a5dc248167352193",
            "_dom_classes": [],
            "description": "Info!",
            "_model_name": "ButtonModel",
            "button_style": "",
            "_view_module": "@jupyter-widgets/controls",
            "_model_module_version": "1.5.0",
            "tooltip": "",
            "_view_count": null,
            "disabled": false,
            "_view_module_version": "1.5.0",
            "layout": "IPY_MODEL_77ed44a9e0a6467d9659d22d27e03c7a",
            "_model_module": "@jupyter-widgets/controls",
            "icon": ""
          }
        },
        "dac02b7c47de4e99a5dc248167352193": {
          "model_module": "@jupyter-widgets/controls",
          "model_name": "ButtonStyleModel",
          "state": {
            "_view_name": "StyleView",
            "_model_name": "ButtonStyleModel",
            "_view_module": "@jupyter-widgets/base",
            "_model_module_version": "1.5.0",
            "_view_count": null,
            "button_color": null,
            "font_weight": "",
            "_view_module_version": "1.2.0",
            "_model_module": "@jupyter-widgets/controls"
          }
        },
        "77ed44a9e0a6467d9659d22d27e03c7a": {
          "model_module": "@jupyter-widgets/base",
          "model_name": "LayoutModel",
          "state": {
            "_view_name": "LayoutView",
            "grid_template_rows": null,
            "right": null,
            "justify_content": null,
            "_view_module": "@jupyter-widgets/base",
            "overflow": null,
            "_model_module_version": "1.2.0",
            "_view_count": null,
            "flex_flow": null,
            "width": null,
            "min_width": null,
            "border": null,
            "align_items": null,
            "bottom": null,
            "_model_module": "@jupyter-widgets/base",
            "top": null,
            "grid_column": null,
            "overflow_y": null,
            "overflow_x": null,
            "grid_auto_flow": null,
            "grid_area": null,
            "grid_template_columns": null,
            "flex": null,
            "_model_name": "LayoutModel",
            "justify_items": null,
            "grid_row": null,
            "max_height": null,
            "align_content": null,
            "visibility": null,
            "align_self": null,
            "height": null,
            "min_height": null,
            "padding": null,
            "grid_auto_rows": null,
            "grid_gap": null,
            "max_width": null,
            "order": null,
            "_view_module_version": "1.2.0",
            "grid_template_areas": null,
            "object_position": null,
            "object_fit": null,
            "grid_auto_columns": null,
            "margin": null,
            "display": null,
            "left": null
          }
        },
        "6f6ca34d18d94cfeb3b40d7875e6c405": {
          "model_module": "@jupyter-widgets/output",
          "model_name": "OutputModel",
          "state": {
            "_view_name": "OutputView",
            "msg_id": "",
            "_dom_classes": [],
            "_model_name": "OutputModel",
            "outputs": [
              {
                "output_type": "stream",
                "metadata": {
                  "tags": []
                },
                "text": "<class 'pandas.core.frame.DataFrame'>\nRangeIndex: 3000 entries, 0 to 2999\nData columns (total 9 columns):\n #   Column              Non-Null Count  Dtype  \n---  ------              --------------  -----  \n 0   longitude           3000 non-null   float64\n 1   latitude            3000 non-null   float64\n 2   housing_median_age  3000 non-null   float64\n 3   total_rooms         3000 non-null   float64\n 4   total_bedrooms      3000 non-null   float64\n 5   population          3000 non-null   float64\n 6   households          3000 non-null   float64\n 7   median_income       3000 non-null   float64\n 8   median_house_value  3000 non-null   float64\ndtypes: float64(9)\nmemory usage: 211.1 KB\n",
                "stream": "stdout"
              }
            ],
            "_view_module": "@jupyter-widgets/output",
            "_model_module_version": "1.0.0",
            "_view_count": null,
            "_view_module_version": "1.0.0",
            "layout": "IPY_MODEL_c840a2dfcbaf40d7acf1508121690be1",
            "_model_module": "@jupyter-widgets/output"
          }
        },
        "c840a2dfcbaf40d7acf1508121690be1": {
          "model_module": "@jupyter-widgets/base",
          "model_name": "LayoutModel",
          "state": {
            "_view_name": "LayoutView",
            "grid_template_rows": null,
            "right": null,
            "justify_content": null,
            "_view_module": "@jupyter-widgets/base",
            "overflow": null,
            "_model_module_version": "1.2.0",
            "_view_count": null,
            "flex_flow": null,
            "width": null,
            "min_width": null,
            "border": null,
            "align_items": null,
            "bottom": null,
            "_model_module": "@jupyter-widgets/base",
            "top": null,
            "grid_column": null,
            "overflow_y": null,
            "overflow_x": null,
            "grid_auto_flow": null,
            "grid_area": null,
            "grid_template_columns": null,
            "flex": null,
            "_model_name": "LayoutModel",
            "justify_items": null,
            "grid_row": null,
            "max_height": null,
            "align_content": null,
            "visibility": null,
            "align_self": null,
            "height": null,
            "min_height": null,
            "padding": null,
            "grid_auto_rows": null,
            "grid_gap": null,
            "max_width": null,
            "order": null,
            "_view_module_version": "1.2.0",
            "grid_template_areas": null,
            "object_position": null,
            "object_fit": null,
            "grid_auto_columns": null,
            "margin": null,
            "display": null,
            "left": null
          }
        },
        "ef713aeb993346f7b7922edc5a4c67a2": {
          "model_module": "@jupyter-widgets/controls",
          "model_name": "ButtonModel",
          "state": {
            "_view_name": "ButtonView",
            "style": "IPY_MODEL_c4a2672261ce4bf9b92a2d25fd0530a1",
            "_dom_classes": [],
            "description": "Description!",
            "_model_name": "ButtonModel",
            "button_style": "",
            "_view_module": "@jupyter-widgets/controls",
            "_model_module_version": "1.5.0",
            "tooltip": "",
            "_view_count": null,
            "disabled": false,
            "_view_module_version": "1.5.0",
            "layout": "IPY_MODEL_b8703fada27943d38adc6c3484244a9b",
            "_model_module": "@jupyter-widgets/controls",
            "icon": ""
          }
        },
        "c4a2672261ce4bf9b92a2d25fd0530a1": {
          "model_module": "@jupyter-widgets/controls",
          "model_name": "ButtonStyleModel",
          "state": {
            "_view_name": "StyleView",
            "_model_name": "ButtonStyleModel",
            "_view_module": "@jupyter-widgets/base",
            "_model_module_version": "1.5.0",
            "_view_count": null,
            "button_color": null,
            "font_weight": "",
            "_view_module_version": "1.2.0",
            "_model_module": "@jupyter-widgets/controls"
          }
        },
        "b8703fada27943d38adc6c3484244a9b": {
          "model_module": "@jupyter-widgets/base",
          "model_name": "LayoutModel",
          "state": {
            "_view_name": "LayoutView",
            "grid_template_rows": null,
            "right": null,
            "justify_content": null,
            "_view_module": "@jupyter-widgets/base",
            "overflow": null,
            "_model_module_version": "1.2.0",
            "_view_count": null,
            "flex_flow": null,
            "width": null,
            "min_width": null,
            "border": null,
            "align_items": null,
            "bottom": null,
            "_model_module": "@jupyter-widgets/base",
            "top": null,
            "grid_column": null,
            "overflow_y": null,
            "overflow_x": null,
            "grid_auto_flow": null,
            "grid_area": null,
            "grid_template_columns": null,
            "flex": null,
            "_model_name": "LayoutModel",
            "justify_items": null,
            "grid_row": null,
            "max_height": null,
            "align_content": null,
            "visibility": null,
            "align_self": null,
            "height": null,
            "min_height": null,
            "padding": null,
            "grid_auto_rows": null,
            "grid_gap": null,
            "max_width": null,
            "order": null,
            "_view_module_version": "1.2.0",
            "grid_template_areas": null,
            "object_position": null,
            "object_fit": null,
            "grid_auto_columns": null,
            "margin": null,
            "display": null,
            "left": null
          }
        }
      }
    }
  },
  "cells": [
    {
      "cell_type": "markdown",
      "metadata": {
        "id": "view-in-github",
        "colab_type": "text"
      },
      "source": [
        "<a href=\"https://colab.research.google.com/github/dolidovich1/Mikhail-Dolidovich/blob/main/Untitled2.ipynb\" target=\"_parent\"><img src=\"https://colab.research.google.com/assets/colab-badge.svg\" alt=\"Open In Colab\"/></a>"
      ]
    },
    {
      "cell_type": "code",
      "metadata": {
        "colab": {
          "base_uri": "https://localhost:8080/",
          "height": 49,
          "referenced_widgets": [
            "141e5031cee14b67b7085ec106aba254",
            "1535a3f23fc24ca5a62ba7e22cdaf9fd",
            "db156de8e08d4eccba37f88d9ffb4835"
          ]
        },
        "id": "IuHjcfZAmz6-",
        "outputId": "a32265ab-e985-4643-e1a7-5847ca6b1d94"
      },
      "source": [
        "import ipywidgets as wd\r\n",
        "sl1 = wd.IntSlider()\r\n",
        "sl1"
      ],
      "execution_count": null,
      "outputs": [
        {
          "output_type": "display_data",
          "data": {
            "application/vnd.jupyter.widget-view+json": {
              "model_id": "141e5031cee14b67b7085ec106aba254",
              "version_minor": 0,
              "version_major": 2
            },
            "text/plain": [
              "IntSlider(value=0)"
            ]
          },
          "metadata": {
            "tags": []
          }
        }
      ]
    },
    {
      "cell_type": "code",
      "metadata": {
        "colab": {
          "base_uri": "https://localhost:8080/",
          "height": 49,
          "referenced_widgets": [
            "7289d06eccf04ffc82f92bfade5df519",
            "2462e91a61a9458dae3171ec707fdc6b",
            "115c51b5c62c4a5da4eee54c4b78a8c1",
            "a5950e224f2e49e882cc3ad0905c5a09",
            "7e9d19f87a6c43c8957523251cce44a4"
          ]
        },
        "id": "Y-t4_kA_i-Dv",
        "outputId": "10aae7ce-76d4-41b4-989d-3c2e57fe2c30"
      },
      "source": [
        "from IPython.display import display as dp\r\n",
        "cat = wd.Button(description = 'Song!')\r\n",
        "output = wd.Output()\r\n",
        "dp(cat,output)\r\n",
        "def catput(b):\r\n",
        "  with output:\r\n",
        "    output.clear_output()\r\n",
        "    for j in range(5):\r\n",
        "      print(\"CAT IM A KITTIE CAT\")\r\n",
        "      for i in range(2):\r\n",
        "        print(\"AND I DANCE DANCE DANCE\")\r\n",
        "cat.on_click(catput)"
      ],
      "execution_count": null,
      "outputs": [
        {
          "output_type": "display_data",
          "data": {
            "application/vnd.jupyter.widget-view+json": {
              "model_id": "7289d06eccf04ffc82f92bfade5df519",
              "version_minor": 0,
              "version_major": 2
            },
            "text/plain": [
              "Button(description='Song!', style=ButtonStyle())"
            ]
          },
          "metadata": {
            "tags": []
          }
        },
        {
          "output_type": "display_data",
          "data": {
            "application/vnd.jupyter.widget-view+json": {
              "model_id": "a5950e224f2e49e882cc3ad0905c5a09",
              "version_minor": 0,
              "version_major": 2
            },
            "text/plain": [
              "Output()"
            ]
          },
          "metadata": {
            "tags": []
          }
        }
      ]
    },
    {
      "cell_type": "code",
      "metadata": {
        "colab": {
          "base_uri": "https://localhost:8080/",
          "height": 49,
          "referenced_widgets": [
            "141e5031cee14b67b7085ec106aba254",
            "1535a3f23fc24ca5a62ba7e22cdaf9fd",
            "db156de8e08d4eccba37f88d9ffb4835"
          ]
        },
        "id": "CbIOIvxhnuf-",
        "outputId": "98ed80d5-0edc-463c-e70e-4fe407c1bfc1"
      },
      "source": [
        "from IPython.display import display as dp\r\n",
        "dp(sl1)"
      ],
      "execution_count": null,
      "outputs": [
        {
          "output_type": "display_data",
          "data": {
            "application/vnd.jupyter.widget-view+json": {
              "model_id": "141e5031cee14b67b7085ec106aba254",
              "version_minor": 0,
              "version_major": 2
            },
            "text/plain": [
              "IntSlider(value=0)"
            ]
          },
          "metadata": {
            "tags": []
          }
        }
      ]
    },
    {
      "cell_type": "code",
      "metadata": {
        "colab": {
          "base_uri": "https://localhost:8080/",
          "height": 49,
          "referenced_widgets": [
            "2ee0d3ffd2d547418350b0734575414b",
            "d44ac91f7ec94ccab0dee091b7c747df",
            "ed685c85aaf144cc808c82c7ea68572d"
          ]
        },
        "id": "MSuEMJVLouv8",
        "outputId": "5fc7f5e1-7368-43fa-8cc5-24b8d775dc86"
      },
      "source": [
        "name = wd.Text(value='The greatest coder in the world')\r\n",
        "dp(name)"
      ],
      "execution_count": null,
      "outputs": [
        {
          "output_type": "display_data",
          "data": {
            "application/vnd.jupyter.widget-view+json": {
              "model_id": "2ee0d3ffd2d547418350b0734575414b",
              "version_minor": 0,
              "version_major": 2
            },
            "text/plain": [
              "Text(value='The greatest coder in the world')"
            ]
          },
          "metadata": {
            "tags": []
          }
        }
      ]
    },
    {
      "cell_type": "code",
      "metadata": {
        "id": "vka8kxhTpaTc"
      },
      "source": [
        "import time"
      ],
      "execution_count": null,
      "outputs": []
    },
    {
      "cell_type": "code",
      "metadata": {
        "id": "Zubsf2x2pbay"
      },
      "source": [
        "pb1 = wd.IntProgress(0,1,100,description = 'Booty...',bar_style = 'danger')"
      ],
      "execution_count": null,
      "outputs": []
    },
    {
      "cell_type": "code",
      "metadata": {
        "colab": {
          "base_uri": "https://localhost:8080/",
          "height": 49,
          "referenced_widgets": [
            "c647d7450eda48c29bd7be1a38180a3d",
            "e354986235544c2a9ccfb5b9c54f1bf0",
            "12263599dd2347d09152e87b80f8ecbd"
          ]
        },
        "id": "WNxUax9Iq3RP",
        "outputId": "032e4864-1641-40ff-ae85-8054d37a1625"
      },
      "source": [
        "dp(pb1)\r\n",
        "for i in range(100):\r\n",
        "  pb1.value = i+1\r\n",
        "  time.sleep(0.10)"
      ],
      "execution_count": null,
      "outputs": [
        {
          "output_type": "display_data",
          "data": {
            "application/vnd.jupyter.widget-view+json": {
              "model_id": "c647d7450eda48c29bd7be1a38180a3d",
              "version_minor": 0,
              "version_major": 2
            },
            "text/plain": [
              "IntProgress(value=1, bar_style='danger', description='Booty...', min=1)"
            ]
          },
          "metadata": {
            "tags": []
          }
        }
      ]
    },
    {
      "cell_type": "code",
      "metadata": {
        "colab": {
          "base_uri": "https://localhost:8080/"
        },
        "id": "oW6-7xwSuME5",
        "outputId": "8b748ebf-1aa4-4239-d6ee-7b8fa5b83e65"
      },
      "source": [
        "import numpy as np\r\n",
        "import matplotlib.pyplot as plt\r\n",
        "%matplotlib -l\r\n",
        "%matplotlib inline"
      ],
      "execution_count": null,
      "outputs": [
        {
          "output_type": "stream",
          "text": [
            "Available matplotlib backends: ['tk', 'gtk', 'gtk3', 'wx', 'qt4', 'qt5', 'qt', 'osx', 'nbagg', 'notebook', 'agg', 'inline', 'ipympl', 'widget']\n"
          ],
          "name": "stdout"
        }
      ]
    },
    {
      "cell_type": "code",
      "metadata": {
        "id": "dSCI7iZfvwyF"
      },
      "source": [
        "x = np.linspace(0, 2 * np.pi, 100)"
      ],
      "execution_count": null,
      "outputs": []
    },
    {
      "cell_type": "code",
      "metadata": {
        "id": "xB8jkYYFv2tM",
        "colab": {
          "base_uri": "https://localhost:8080/",
          "height": 395,
          "referenced_widgets": [
            "f13abc6d2ff64d9fbfa00b60eaf35315",
            "e8cf66ff06bc4a46872d8b952e81bf47",
            "02ca41973afe448a99b58b9b7a21ba47",
            "882aee6f1e8b494db73c107fb821d81c",
            "e2e3cfe284bf49b1925010d3d2c5f4e3",
            "4d4c1fa5ac554a58b4bb9e59ea9ab839",
            "1b2a81ae6c5b4d82a72f112e8d6083dc",
            "4826793263f3471cbda9ec34bef3bdc6",
            "2642b28f07094de693e07b9044dda09f",
            "d910344451094f089e3bd4ee28841b50",
            "a225b0c1406e482a9f0c7738bd146716",
            "bc6e9fc69b5a48b68272bec1ef4fa4e5",
            "d015f50fcd504089b60599077ebfa445"
          ]
        },
        "outputId": "fbbc46f7-2876-473e-8b61-76ee5ed09358"
      },
      "source": [
        "def my_sin(x, amp, w, phi):\r\n",
        "  return (amp*np.sin(w*(x - phi)))\r\n",
        "def draw_sin(w, amp, phi):\r\n",
        "  y = my_sin(x, amp, w, phi)\r\n",
        "  fig, ax = plt.subplots()\r\n",
        "  ax.grid(True)\r\n",
        "  ax.plot(x, y, color='red')\r\n",
        "  print(w, amp, phi)\r\n",
        "wd.interact(draw_sin, w=(0,10,1), amp = (0,4,.1), phi=(0,2*np.pi + 0.01, 0.01))"
      ],
      "execution_count": null,
      "outputs": [
        {
          "output_type": "display_data",
          "data": {
            "application/vnd.jupyter.widget-view+json": {
              "model_id": "f13abc6d2ff64d9fbfa00b60eaf35315",
              "version_minor": 0,
              "version_major": 2
            },
            "text/plain": [
              "interactive(children=(IntSlider(value=5, description='w', max=10), FloatSlider(value=2.0, description='amp', m…"
            ]
          },
          "metadata": {
            "tags": []
          }
        },
        {
          "output_type": "execute_result",
          "data": {
            "text/plain": [
              "<function __main__.draw_sin>"
            ]
          },
          "metadata": {
            "tags": []
          },
          "execution_count": 22
        }
      ]
    },
    {
      "cell_type": "markdown",
      "metadata": {
        "id": "_L0uzEKU1Jq4"
      },
      "source": [
        "#Данные!!!"
      ]
    },
    {
      "cell_type": "markdown",
      "metadata": {
        "id": "UUoO1Bw3uKGM"
      },
      "source": [
        ""
      ]
    },
    {
      "cell_type": "code",
      "metadata": {
        "id": "crCvPIQd1M2C"
      },
      "source": [
        "import pandas as pd"
      ],
      "execution_count": null,
      "outputs": []
    },
    {
      "cell_type": "code",
      "metadata": {
        "id": "ZnrHrrNp1g2H"
      },
      "source": [
        "data = pd.read_csv(\"/content/sample_data/california_housing_test.csv\")"
      ],
      "execution_count": null,
      "outputs": []
    },
    {
      "cell_type": "code",
      "metadata": {
        "colab": {
          "base_uri": "https://localhost:8080/"
        },
        "id": "JO2OX6e42CQ5",
        "outputId": "ef29b074-e01a-46d6-960f-c37c0e4d9a5b"
      },
      "source": [
        "data.info()"
      ],
      "execution_count": null,
      "outputs": [
        {
          "output_type": "stream",
          "text": [
            "<class 'pandas.core.frame.DataFrame'>\n",
            "RangeIndex: 3000 entries, 0 to 2999\n",
            "Data columns (total 9 columns):\n",
            " #   Column              Non-Null Count  Dtype  \n",
            "---  ------              --------------  -----  \n",
            " 0   longitude           3000 non-null   float64\n",
            " 1   latitude            3000 non-null   float64\n",
            " 2   housing_median_age  3000 non-null   float64\n",
            " 3   total_rooms         3000 non-null   float64\n",
            " 4   total_bedrooms      3000 non-null   float64\n",
            " 5   population          3000 non-null   float64\n",
            " 6   households          3000 non-null   float64\n",
            " 7   median_income       3000 non-null   float64\n",
            " 8   median_house_value  3000 non-null   float64\n",
            "dtypes: float64(9)\n",
            "memory usage: 211.1 KB\n"
          ],
          "name": "stdout"
        }
      ]
    },
    {
      "cell_type": "code",
      "metadata": {
        "id": "wWcLYnC-2noU",
        "colab": {
          "base_uri": "https://localhost:8080/",
          "height": 297
        },
        "outputId": "e34639d2-379c-4edd-e0a9-a9931b0b2d90"
      },
      "source": [
        "data.describe()"
      ],
      "execution_count": null,
      "outputs": [
        {
          "output_type": "execute_result",
          "data": {
            "text/html": [
              "<div>\n",
              "<style scoped>\n",
              "    .dataframe tbody tr th:only-of-type {\n",
              "        vertical-align: middle;\n",
              "    }\n",
              "\n",
              "    .dataframe tbody tr th {\n",
              "        vertical-align: top;\n",
              "    }\n",
              "\n",
              "    .dataframe thead th {\n",
              "        text-align: right;\n",
              "    }\n",
              "</style>\n",
              "<table border=\"1\" class=\"dataframe\">\n",
              "  <thead>\n",
              "    <tr style=\"text-align: right;\">\n",
              "      <th></th>\n",
              "      <th>longitude</th>\n",
              "      <th>latitude</th>\n",
              "      <th>housing_median_age</th>\n",
              "      <th>total_rooms</th>\n",
              "      <th>total_bedrooms</th>\n",
              "      <th>population</th>\n",
              "      <th>households</th>\n",
              "      <th>median_income</th>\n",
              "      <th>median_house_value</th>\n",
              "    </tr>\n",
              "  </thead>\n",
              "  <tbody>\n",
              "    <tr>\n",
              "      <th>count</th>\n",
              "      <td>3000.000000</td>\n",
              "      <td>3000.00000</td>\n",
              "      <td>3000.000000</td>\n",
              "      <td>3000.000000</td>\n",
              "      <td>3000.000000</td>\n",
              "      <td>3000.000000</td>\n",
              "      <td>3000.00000</td>\n",
              "      <td>3000.000000</td>\n",
              "      <td>3000.00000</td>\n",
              "    </tr>\n",
              "    <tr>\n",
              "      <th>mean</th>\n",
              "      <td>-119.589200</td>\n",
              "      <td>35.63539</td>\n",
              "      <td>28.845333</td>\n",
              "      <td>2599.578667</td>\n",
              "      <td>529.950667</td>\n",
              "      <td>1402.798667</td>\n",
              "      <td>489.91200</td>\n",
              "      <td>3.807272</td>\n",
              "      <td>205846.27500</td>\n",
              "    </tr>\n",
              "    <tr>\n",
              "      <th>std</th>\n",
              "      <td>1.994936</td>\n",
              "      <td>2.12967</td>\n",
              "      <td>12.555396</td>\n",
              "      <td>2155.593332</td>\n",
              "      <td>415.654368</td>\n",
              "      <td>1030.543012</td>\n",
              "      <td>365.42271</td>\n",
              "      <td>1.854512</td>\n",
              "      <td>113119.68747</td>\n",
              "    </tr>\n",
              "    <tr>\n",
              "      <th>min</th>\n",
              "      <td>-124.180000</td>\n",
              "      <td>32.56000</td>\n",
              "      <td>1.000000</td>\n",
              "      <td>6.000000</td>\n",
              "      <td>2.000000</td>\n",
              "      <td>5.000000</td>\n",
              "      <td>2.00000</td>\n",
              "      <td>0.499900</td>\n",
              "      <td>22500.00000</td>\n",
              "    </tr>\n",
              "    <tr>\n",
              "      <th>25%</th>\n",
              "      <td>-121.810000</td>\n",
              "      <td>33.93000</td>\n",
              "      <td>18.000000</td>\n",
              "      <td>1401.000000</td>\n",
              "      <td>291.000000</td>\n",
              "      <td>780.000000</td>\n",
              "      <td>273.00000</td>\n",
              "      <td>2.544000</td>\n",
              "      <td>121200.00000</td>\n",
              "    </tr>\n",
              "    <tr>\n",
              "      <th>50%</th>\n",
              "      <td>-118.485000</td>\n",
              "      <td>34.27000</td>\n",
              "      <td>29.000000</td>\n",
              "      <td>2106.000000</td>\n",
              "      <td>437.000000</td>\n",
              "      <td>1155.000000</td>\n",
              "      <td>409.50000</td>\n",
              "      <td>3.487150</td>\n",
              "      <td>177650.00000</td>\n",
              "    </tr>\n",
              "    <tr>\n",
              "      <th>75%</th>\n",
              "      <td>-118.020000</td>\n",
              "      <td>37.69000</td>\n",
              "      <td>37.000000</td>\n",
              "      <td>3129.000000</td>\n",
              "      <td>636.000000</td>\n",
              "      <td>1742.750000</td>\n",
              "      <td>597.25000</td>\n",
              "      <td>4.656475</td>\n",
              "      <td>263975.00000</td>\n",
              "    </tr>\n",
              "    <tr>\n",
              "      <th>max</th>\n",
              "      <td>-114.490000</td>\n",
              "      <td>41.92000</td>\n",
              "      <td>52.000000</td>\n",
              "      <td>30450.000000</td>\n",
              "      <td>5419.000000</td>\n",
              "      <td>11935.000000</td>\n",
              "      <td>4930.00000</td>\n",
              "      <td>15.000100</td>\n",
              "      <td>500001.00000</td>\n",
              "    </tr>\n",
              "  </tbody>\n",
              "</table>\n",
              "</div>"
            ],
            "text/plain": [
              "         longitude    latitude  ...  median_income  median_house_value\n",
              "count  3000.000000  3000.00000  ...    3000.000000          3000.00000\n",
              "mean   -119.589200    35.63539  ...       3.807272        205846.27500\n",
              "std       1.994936     2.12967  ...       1.854512        113119.68747\n",
              "min    -124.180000    32.56000  ...       0.499900         22500.00000\n",
              "25%    -121.810000    33.93000  ...       2.544000        121200.00000\n",
              "50%    -118.485000    34.27000  ...       3.487150        177650.00000\n",
              "75%    -118.020000    37.69000  ...       4.656475        263975.00000\n",
              "max    -114.490000    41.92000  ...      15.000100        500001.00000\n",
              "\n",
              "[8 rows x 9 columns]"
            ]
          },
          "metadata": {
            "tags": []
          },
          "execution_count": 26
        }
      ]
    },
    {
      "cell_type": "code",
      "metadata": {
        "colab": {
          "base_uri": "https://localhost:8080/",
          "height": 416,
          "referenced_widgets": [
            "299b2fdb51154ffc9f36c12a61aa1b64",
            "dac02b7c47de4e99a5dc248167352193",
            "77ed44a9e0a6467d9659d22d27e03c7a",
            "6f6ca34d18d94cfeb3b40d7875e6c405",
            "c840a2dfcbaf40d7acf1508121690be1"
          ]
        },
        "id": "yEG8O0C7NDH9",
        "outputId": "56019966-1a4e-4cf8-b433-5b9adc09bf24"
      },
      "source": [
        "infobutton = wd.Button(description = \"Info!\")\r\n",
        "output2 = wd.Output()\r\n",
        "infobutton.on_click(infoput(data))\r\n",
        "def infoput(b):\r\n",
        "  with output2:\r\n",
        "    output.clear_output()\r\n",
        "    b.info()\r\n",
        "dp(infobutton, output2)"
      ],
      "execution_count": null,
      "outputs": [
        {
          "output_type": "display_data",
          "data": {
            "application/vnd.jupyter.widget-view+json": {
              "model_id": "299b2fdb51154ffc9f36c12a61aa1b64",
              "version_minor": 0,
              "version_major": 2
            },
            "text/plain": [
              "Button(description='Info!', style=ButtonStyle())"
            ]
          },
          "metadata": {
            "tags": []
          }
        },
        {
          "output_type": "display_data",
          "data": {
            "application/vnd.jupyter.widget-view+json": {
              "model_id": "6f6ca34d18d94cfeb3b40d7875e6c405",
              "version_minor": 0,
              "version_major": 2
            },
            "text/plain": [
              "Output()"
            ]
          },
          "metadata": {
            "tags": []
          }
        },
        {
          "output_type": "error",
          "ename": "TypeError",
          "evalue": "ignored",
          "traceback": [
            "\u001b[0;31m---------------------------------------------------------------------------\u001b[0m",
            "\u001b[0;31mTypeError\u001b[0m                                 Traceback (most recent call last)",
            "\u001b[0;31mTypeError\u001b[0m: 'NoneType' object is not callable"
          ]
        }
      ]
    },
    {
      "cell_type": "code",
      "metadata": {
        "colab": {
          "base_uri": "https://localhost:8080/",
          "height": 144,
          "referenced_widgets": [
            "ef713aeb993346f7b7922edc5a4c67a2",
            "c4a2672261ce4bf9b92a2d25fd0530a1",
            "b8703fada27943d38adc6c3484244a9b"
          ]
        },
        "id": "Jvjgfix-OPwy",
        "outputId": "f143fe7f-7bef-4cd3-a302-bbc824bb0203"
      },
      "source": [
        "describebutton = wd.Button(description = \"Description!\")\r\n",
        "describebutton.on_click(data.describe())\r\n",
        "describebutton"
      ],
      "execution_count": null,
      "outputs": [
        {
          "output_type": "display_data",
          "data": {
            "application/vnd.jupyter.widget-view+json": {
              "model_id": "ef713aeb993346f7b7922edc5a4c67a2",
              "version_minor": 0,
              "version_major": 2
            },
            "text/plain": [
              "Button(description='Description!', style=ButtonStyle())"
            ]
          },
          "metadata": {
            "tags": []
          }
        },
        {
          "output_type": "error",
          "ename": "TypeError",
          "evalue": "ignored",
          "traceback": [
            "\u001b[0;31m---------------------------------------------------------------------------\u001b[0m",
            "\u001b[0;31mTypeError\u001b[0m                                 Traceback (most recent call last)",
            "\u001b[0;31mTypeError\u001b[0m: 'DataFrame' object is not callable"
          ]
        }
      ]
    }
  ]
}