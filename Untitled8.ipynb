{
  "nbformat": 4,
  "nbformat_minor": 0,
  "metadata": {
    "colab": {
      "name": "Untitled8.ipynb",
      "provenance": [],
      "authorship_tag": "ABX9TyPCefxUHRS4aipOZs+XSpmG",
      "include_colab_link": true
    },
    "kernelspec": {
      "name": "python3",
      "display_name": "Python 3"
    },
    "language_info": {
      "name": "python"
    },
    "widgets": {
      "application/vnd.jupyter.widget-state+json": {
        "44a929b76ec849aab4b8082a3af182b0": {
          "model_module": "@jupyter-widgets/controls",
          "model_name": "VBoxModel",
          "state": {
            "_view_name": "VBoxView",
            "_dom_classes": [
              "widget-interact"
            ],
            "_model_name": "VBoxModel",
            "_view_module": "@jupyter-widgets/controls",
            "_model_module_version": "1.5.0",
            "_view_count": null,
            "_view_module_version": "1.5.0",
            "box_style": "",
            "layout": "IPY_MODEL_21c64d2a6601443ab5b7147783bd68d1",
            "_model_module": "@jupyter-widgets/controls",
            "children": [
              "IPY_MODEL_2a4d64e4b4464c418456dd163c73079f",
              "IPY_MODEL_7f96faf0101845a790e7be4fe23e359e"
            ]
          }
        },
        "21c64d2a6601443ab5b7147783bd68d1": {
          "model_module": "@jupyter-widgets/base",
          "model_name": "LayoutModel",
          "state": {
            "_view_name": "LayoutView",
            "grid_template_rows": null,
            "right": null,
            "justify_content": null,
            "_view_module": "@jupyter-widgets/base",
            "overflow": null,
            "_model_module_version": "1.2.0",
            "_view_count": null,
            "flex_flow": null,
            "width": null,
            "min_width": null,
            "border": null,
            "align_items": null,
            "bottom": null,
            "_model_module": "@jupyter-widgets/base",
            "top": null,
            "grid_column": null,
            "overflow_y": null,
            "overflow_x": null,
            "grid_auto_flow": null,
            "grid_area": null,
            "grid_template_columns": null,
            "flex": null,
            "_model_name": "LayoutModel",
            "justify_items": null,
            "grid_row": null,
            "max_height": null,
            "align_content": null,
            "visibility": null,
            "align_self": null,
            "height": null,
            "min_height": null,
            "padding": null,
            "grid_auto_rows": null,
            "grid_gap": null,
            "max_width": null,
            "order": null,
            "_view_module_version": "1.2.0",
            "grid_template_areas": null,
            "object_position": null,
            "object_fit": null,
            "grid_auto_columns": null,
            "margin": null,
            "display": null,
            "left": null
          }
        },
        "2a4d64e4b4464c418456dd163c73079f": {
          "model_module": "@jupyter-widgets/controls",
          "model_name": "DropdownModel",
          "state": {
            "_options_labels": [
              "RI",
              "Na",
              "Mg",
              "Al",
              "Si",
              "K",
              "Ca",
              "Ba",
              "Fe",
              "Class"
            ],
            "_view_name": "DropdownView",
            "style": "IPY_MODEL_9a7c6cfdb4be49c4860d00300de697b7",
            "_dom_classes": [],
            "description": "col",
            "_model_name": "DropdownModel",
            "index": 0,
            "_view_module": "@jupyter-widgets/controls",
            "_model_module_version": "1.5.0",
            "_view_count": null,
            "disabled": false,
            "_view_module_version": "1.5.0",
            "description_tooltip": null,
            "_model_module": "@jupyter-widgets/controls",
            "layout": "IPY_MODEL_aceca9574c6f493d8d7110d984dcc6ae"
          }
        },
        "7f96faf0101845a790e7be4fe23e359e": {
          "model_module": "@jupyter-widgets/output",
          "model_name": "OutputModel",
          "state": {
            "_view_name": "OutputView",
            "msg_id": "",
            "_dom_classes": [],
            "_model_name": "OutputModel",
            "outputs": [
              {
                "output_type": "display_data",
                "metadata": {
                  "tags": [],
                  "needs_background": "light"
                },
                "image/png": "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\n",
                "text/plain": "<Figure size 720x720 with 1 Axes>"
              }
            ],
            "_view_module": "@jupyter-widgets/output",
            "_model_module_version": "1.0.0",
            "_view_count": null,
            "_view_module_version": "1.0.0",
            "layout": "IPY_MODEL_8457f92c7ec64d37afaadf522eee7705",
            "_model_module": "@jupyter-widgets/output"
          }
        },
        "9a7c6cfdb4be49c4860d00300de697b7": {
          "model_module": "@jupyter-widgets/controls",
          "model_name": "DescriptionStyleModel",
          "state": {
            "_view_name": "StyleView",
            "_model_name": "DescriptionStyleModel",
            "description_width": "",
            "_view_module": "@jupyter-widgets/base",
            "_model_module_version": "1.5.0",
            "_view_count": null,
            "_view_module_version": "1.2.0",
            "_model_module": "@jupyter-widgets/controls"
          }
        },
        "aceca9574c6f493d8d7110d984dcc6ae": {
          "model_module": "@jupyter-widgets/base",
          "model_name": "LayoutModel",
          "state": {
            "_view_name": "LayoutView",
            "grid_template_rows": null,
            "right": null,
            "justify_content": null,
            "_view_module": "@jupyter-widgets/base",
            "overflow": null,
            "_model_module_version": "1.2.0",
            "_view_count": null,
            "flex_flow": null,
            "width": null,
            "min_width": null,
            "border": null,
            "align_items": null,
            "bottom": null,
            "_model_module": "@jupyter-widgets/base",
            "top": null,
            "grid_column": null,
            "overflow_y": null,
            "overflow_x": null,
            "grid_auto_flow": null,
            "grid_area": null,
            "grid_template_columns": null,
            "flex": null,
            "_model_name": "LayoutModel",
            "justify_items": null,
            "grid_row": null,
            "max_height": null,
            "align_content": null,
            "visibility": null,
            "align_self": null,
            "height": null,
            "min_height": null,
            "padding": null,
            "grid_auto_rows": null,
            "grid_gap": null,
            "max_width": null,
            "order": null,
            "_view_module_version": "1.2.0",
            "grid_template_areas": null,
            "object_position": null,
            "object_fit": null,
            "grid_auto_columns": null,
            "margin": null,
            "display": null,
            "left": null
          }
        },
        "8457f92c7ec64d37afaadf522eee7705": {
          "model_module": "@jupyter-widgets/base",
          "model_name": "LayoutModel",
          "state": {
            "_view_name": "LayoutView",
            "grid_template_rows": null,
            "right": null,
            "justify_content": null,
            "_view_module": "@jupyter-widgets/base",
            "overflow": null,
            "_model_module_version": "1.2.0",
            "_view_count": null,
            "flex_flow": null,
            "width": null,
            "min_width": null,
            "border": null,
            "align_items": null,
            "bottom": null,
            "_model_module": "@jupyter-widgets/base",
            "top": null,
            "grid_column": null,
            "overflow_y": null,
            "overflow_x": null,
            "grid_auto_flow": null,
            "grid_area": null,
            "grid_template_columns": null,
            "flex": null,
            "_model_name": "LayoutModel",
            "justify_items": null,
            "grid_row": null,
            "max_height": null,
            "align_content": null,
            "visibility": null,
            "align_self": null,
            "height": null,
            "min_height": null,
            "padding": null,
            "grid_auto_rows": null,
            "grid_gap": null,
            "max_width": null,
            "order": null,
            "_view_module_version": "1.2.0",
            "grid_template_areas": null,
            "object_position": null,
            "object_fit": null,
            "grid_auto_columns": null,
            "margin": null,
            "display": null,
            "left": null
          }
        },
        "070e184537d74936b0cf71c91e6d620b": {
          "model_module": "@jupyter-widgets/controls",
          "model_name": "VBoxModel",
          "state": {
            "_view_name": "VBoxView",
            "_dom_classes": [
              "widget-interact"
            ],
            "_model_name": "VBoxModel",
            "_view_module": "@jupyter-widgets/controls",
            "_model_module_version": "1.5.0",
            "_view_count": null,
            "_view_module_version": "1.5.0",
            "box_style": "",
            "layout": "IPY_MODEL_9627837855ed45d5ae2003b665fd2d61",
            "_model_module": "@jupyter-widgets/controls",
            "children": [
              "IPY_MODEL_c58d345a3b2a4e7cabe07ea6c0d9ccd5",
              "IPY_MODEL_62e11f8034e74777baa87c7879141ef5"
            ]
          }
        },
        "9627837855ed45d5ae2003b665fd2d61": {
          "model_module": "@jupyter-widgets/base",
          "model_name": "LayoutModel",
          "state": {
            "_view_name": "LayoutView",
            "grid_template_rows": null,
            "right": null,
            "justify_content": null,
            "_view_module": "@jupyter-widgets/base",
            "overflow": null,
            "_model_module_version": "1.2.0",
            "_view_count": null,
            "flex_flow": null,
            "width": null,
            "min_width": null,
            "border": null,
            "align_items": null,
            "bottom": null,
            "_model_module": "@jupyter-widgets/base",
            "top": null,
            "grid_column": null,
            "overflow_y": null,
            "overflow_x": null,
            "grid_auto_flow": null,
            "grid_area": null,
            "grid_template_columns": null,
            "flex": null,
            "_model_name": "LayoutModel",
            "justify_items": null,
            "grid_row": null,
            "max_height": null,
            "align_content": null,
            "visibility": null,
            "align_self": null,
            "height": null,
            "min_height": null,
            "padding": null,
            "grid_auto_rows": null,
            "grid_gap": null,
            "max_width": null,
            "order": null,
            "_view_module_version": "1.2.0",
            "grid_template_areas": null,
            "object_position": null,
            "object_fit": null,
            "grid_auto_columns": null,
            "margin": null,
            "display": null,
            "left": null
          }
        },
        "c58d345a3b2a4e7cabe07ea6c0d9ccd5": {
          "model_module": "@jupyter-widgets/controls",
          "model_name": "DropdownModel",
          "state": {
            "_options_labels": [
              "RI",
              "Na",
              "Mg",
              "Al",
              "Si",
              "K",
              "Ca",
              "Ba",
              "Fe"
            ],
            "_view_name": "DropdownView",
            "style": "IPY_MODEL_1f188d02b1074644bbf0485c2fc24fc3",
            "_dom_classes": [],
            "description": "col",
            "_model_name": "DropdownModel",
            "index": 0,
            "_view_module": "@jupyter-widgets/controls",
            "_model_module_version": "1.5.0",
            "_view_count": null,
            "disabled": false,
            "_view_module_version": "1.5.0",
            "description_tooltip": null,
            "_model_module": "@jupyter-widgets/controls",
            "layout": "IPY_MODEL_7135dd1c245641d28912fd7879cb9744"
          }
        },
        "62e11f8034e74777baa87c7879141ef5": {
          "model_module": "@jupyter-widgets/output",
          "model_name": "OutputModel",
          "state": {
            "_view_name": "OutputView",
            "msg_id": "",
            "_dom_classes": [],
            "_model_name": "OutputModel",
            "outputs": [
              {
                "output_type": "display_data",
                "metadata": {
                  "tags": [],
                  "needs_background": "light"
                },
                "image/png": "iVBORw0KGgoAAAANSUhEUgAAAmAAAAJQCAYAAAApEdh9AAAABHNCSVQICAgIfAhkiAAAAAlwSFlzAAALEgAACxIB0t1+/AAAADh0RVh0U29mdHdhcmUAbWF0cGxvdGxpYiB2ZXJzaW9uMy4yLjIsIGh0dHA6Ly9tYXRwbG90bGliLm9yZy+WH4yJAAAgAElEQVR4nO3df5Td913f+deb0WClBoqDtU2CaLz8aDPNlLg9s16yK7ZWtt3NYWkJZymN6GJSD03IgVmzpRg2cxoHtuo27kLWVdt4AxIWLdzCCTkObZ12A71pMoWGHRs7KBlaYDfsUWJiJXbixkTZsfzZP+6VGQtJI0Wjz9ea+3icM0cz3++933lf5Rz5me/3c7+3WmsBAKCfLxp6AACAWSPAAAA6E2AAAJ0JMACAzgQYAEBnAgwAoDMBBjOmql5SVT9RVb9TVZtV1bZ8/e2h5+PqqKqPnvO/9aer6r1VdeA8j31fVa0NMSfMij1DDwD0U1XXJfnlJPuTvCXJ/5Xk/5vu/tWBxqKff5XJ/+5flOTrktyV5IGq+vrW2kcHnAtmjgCD2fJNSV6W5E2ttR/buqOqhpmInj7ZWvt30+9/pap+O8laktcm+bvDjQWzxyVImC1/Yvrnw9s9sKpeN71U9bVbtv356bZbt2y7abrtu7dsu3W67aYt2+arauM8z39fVd235ecXTLf9TlV95TYz7qmqH6qqj1TV6ao6VVX/sqpedoHHXzd9zNsu8npftmXbn5tepvtMVT1VVY9U1fKW/a+tqn89PeZnq+rXq+q7znPss5f9XnfO9v1V9fR035+/0N/JdNt3Th/3vov9nVymh6Z//vEdPCZwCQQYzJZPT/986QC/+3/K5LLXBU0vkd6f5KuT/NettY9tc8x/muRwkgeSvCbJX0/ykSQvPt+DW2ufT/JTSW6rqr3n7H5Dkn/TWvvN6Szfksnl2i+e7vuWJMfy3L+7r07yziR/dfr7/1mSn6yq7znPr388yRvP2fb6JJ/Z5jWmqr4syd1Jzmz32Mt00/TP39nh4wLbcAkSZsu7M7nU9Kaq2kjya0k2r/YvnZ7J+ltJ/mGS//ECj9mT5OeTfH2S/2q7NUlV9aok/32SO1prf3/Lrvu3GefeJD+Q5C8n+cfTY319km9Icmj6cyW5J5MzhQdba89Mn/tLWw/UWvs7W+b5oiTvyyT+3jj9PVv9XJK/VlV/trX20PT1fneS+5L8jW1m/pFM4uv+JDdu89iLqenv/aIkX5vk7Ul+K5OwBDpyBgxmSGvt95LckuQ3koyT/H4mAXa1I+zHk3w0yZEL7J9L8k+S/KUk39Na+61LOOZ/k6Ql+YnLGaS19n9nshj9DVs2vyHJqSTvmv78JzM50/WTW+LrD6mqr6uqUVV9LH/w9/jd0+ef6/FMIuzsWbDXJHk6k7N3F1RVfzrJ92USjZ+96Ivb3ndMZ/x8kg8nWUzyF1trT1zhcYHLJMBgxkzj5q8leSKT//j/Z9Ovq2J6puovJ/neTILjfL49yX+b5EOZnJ2bu4RDf0WSx1trn/sCxvpHSf7LqlqsquuT/A9Jfqq1dvYdoV8x/fPkhQ5QVV+S5L1JXpHkh5N8YyZ/j8eSXHeBp709yaGq+qOZhNg7sv1lxX+Q5P2ttZ/b9lVt7z3TGf+LJN+f5AVJ3nWey7HAVeYSJMymv59kPskbWmsnk6v2Lsj5TALiZ1tr79+6KP8cn0/y6kzWqP16JkFzeJtjfzLJC6vqBV9AhD2QyRm5NyR5JMmXZhJDW4+dJBd7E8ArMzlL9o2ttWfvmTW9xHderbUPVtV/yOS1fWMm4Xe+s2Vnj/VXp7/nFReZ43I83lpbn37/q1X1mUzWxK0k+Xs79DuAS+AMGMyYqvrmJH8lyQ+fja+r6I5MIuYHt3ncu1prH2yt/fskb0pyV1XdvM1z/s8klcklv8syvaz4fyT5zkwu7/1Sa23rQvT/kEmgfXdduEz/yPTPZy/fVtUNmSzWv5i3Z3I28N2ttUcv8rgvzSSK7mmtbWxzzC/U8UzeCfmDVfVHtnswsHMEGMyQqvrSTALg307/vBRfXVUvm96e4aum2/74lm1fM932oqo6d4H49yR5yzahca57kvxKkp+uqi++0INaa+Mkv5Dkx6vq7qp6dVX9xar6e1tvc3ERR5PszeTs0nMWzLfWWiaX6P5skn9dVX+lql5VVd9bVT8yfdivJHkyyT+sqv+uqr49yb/JH5w9u5B/kuQvZPKu0Iv5liTPZLIA/4Jqcof7921zrPOavs43J9mXP/wOTeAqEmAwW96a5D9J8ten//G9FP8qycb06+y75Y5v2Xb2nYH/SyZnk7b6zVx44f15Ted6XSa3SPjRbR7+2kzu7P6aJL84ne/lSbYNvtbaqUyC6dHpc8/d/+5MQimZxNovZnLbiI9uef63ZvIGgncm+V+T/GQmgXWx3/u51tovXcLZx7kkf7O1tt3C++uT/N42j7nYPP8ik09B+JtV9YIv9DjA5alL/zcY4MKq6ieTnGytvWXoWS7F9HLh/5vkf2+t/a2h5/lCVNWfSPLvk/znrbVfG3oe4NJZhA/slEez/eW3wVXVvkwWvt+RyVWAfzTsRFfkzyV5r/iCa48zYMBMmX4c0E9lcvbrB1pr7xx2ImAWCTAAgM62XYRfVceq6rGqOnGB/bdOP6j24enXm6fb91bVr00/vPbDW945lKq6r6r+ny3P2e7t5gAAu8alrAG7L5MbKf70RR7zgdbaN5+z7fNJXtVa+2xVzSdZq6r3tNb+3XT/D17uqf8bb7yx3XTTTZfzFACAQTz44IOfbK3tO9++bQNsm7tXX+x5LX/wuWXz068rut550003ZX19ffsHAgAMrKp+90L7duo+YK+cXmp8T1W9fMsvnquqh5M8lsk7dT645TmHq+pDVfW2qrrQ56alql5fVetVtX7q1KkdGhcAYDg7EWAPJXlpa+0Vmdxw8f6zO1prZ1prNyfZn+SWqlqc7vqfk7wskw+FfWGSH7rQwVtr72itLbXWlvbtO+9ZPACAa8oVB1hr7cmzd2purT2QZP7cjyNprX06yTiTD9tNa+3RNvH5TN4OfsuVzgEAcK244gCrqhed/bDaqrplesxPVdW+qvry6fYXZPKRHr85/fnF0z8rk48QOe87LAEAdqNtF+FX1SjJrUlurKqTSe7KZEF9Wmv3Jvm2JG+sqqeTfC7Ja1trbRpZx6tqLpMo+/nW2j+fHvZnpnejriQPZ/KBvQAAM+GauhHr0tJS8y5IAOBaUFUPttaWzrdvp94FCQDAJRJgAACdCTAAgM4EGABAZwIMAKAzAQYA0JkAAwDoTIABAHQmwAAAOhNgAACdCTAAgM4EGABAZwIMAKAzAQYA0JkAA2bWaDTK4uJi5ubmsri4mNFoNPRIwIzYM/QAAEMYjUZZXV3N0aNHc+DAgaytrWV5eTlJcujQoYGnA3a7aq0NPcMlW1paauvr60OPAewCi4uLOXLkSA4ePPjstvF4nJWVlZw4cWLAyYDdoqoebK0tnXefAANm0dzcXE6fPp35+flnt21ubmbv3r05c+bMgJMBu8XFAswaMGAmLSwsZG1t7Tnb1tbWsrCwMNBEwCwRYMBMWl1dzfLycsbjcTY3NzMej7O8vJzV1dWhRwNmgEX4wEw6u9B+ZWUlGxsbWVhYyOHDhy3AB7qwBgwA4CqwBgwA4HlEgAEAdCbAAAA6E2AAAJ0JMACAzgQYAEBnAgwAoDMBBgDQmQADAOhMgAEAdCbAAAA6E2AAAJ0JMACAzgQYAEBnAgwAoDMBBgDQmQADAOhMgAEAdCbAAAA6E2AAAJ0JMACAzgQYAEBnAgwAoDMBBgDQmQADAOhMgAEAdCbAAAA6E2AAAJ0JMACAzgQYAEBnAgwAoDMBBgDQmQADAOhMgAEAdCbAAAA6E2AAAJ0JMACAzgQYAEBnAgwAoDMBBgDQmQADAOhMgAEAdCbAAAA6E2AAAJ0JMACAzgQYAEBnAgwAoDMBBgDQmQADAOhMgAEAdCbAgJk1Go2yuLiYubm5LC4uZjQaDT0SMCP2DD0AwBBGo1FWV1dz9OjRHDhwIGtra1leXk6SHDp0aODpgN2uWmtDz3DJlpaW2vr6+tBjALvA4uJijhw5koMHDz67bTweZ2VlJSdOnBhwMmC3qKoHW2tL590nwIBZNDc3l9OnT2d+fv7ZbZubm9m7d2/OnDkz4GTAbnGxALMGDJhJCwsLWVtbe862tbW1LCwsDDQRMEsEGDCTVldXs7y8nPF4nM3NzYzH4ywvL2d1dXXo0YAZYBE+MJPOLrRfWVnJxsZGFhYWcvjwYQvwgS6sAQMAuAqsAQMAeB4RYAAAnQkwAIDOBBgAQGcCDACgMwEGANCZAAMA6EyAAQB0JsAAADoTYAAAnQkwAIDOBBgAQGcCDACgMwEGANCZAAMA6EyAAQB0JsAAADoTYAAAnQkwAIDOLinAqupYVT1WVScusP/WqvpMVT08/XrzdPveqvq1qnqkqj5cVT+y5Tn/aVV9sKp+u6p+rqq+eGdeEgDA89ulngG7L8mrt3nMB1prN0+/fnS67fNJXtVae0WSm5O8uqq+YbrvrUne1lr72iRPJFm+vNEBAK5NlxRgrbX3J3n8cg/eJj47/XF++tWqqpK8Ksk7p/uOJ3nN5R4fAOBatJNrwF45vdT4nqp6+dmNVTVXVQ8neSzJe1trH0zyFUk+3Vp7evqwk0m+8nwHrarXV9V6Va2fOnVqB8cFABjGTgXYQ0leOr3UeCTJ/Wd3tNbOtNZuTrI/yS1VtXg5B26tvaO1ttRaW9q3b98OjQsAMJwdCbDW2pNnLzW21h5IMl9VN57zmE8nGWeyluxTSb68qvZMd+9P8rGdmAUA4PluRwKsql40XdeVqrpletxPVdW+qvry6fYXJPkLSX6ztdYyibFvmx7iu5K8eydmAQB4vtuz/UOSqholuTXJjVV1MsldmSyoT2vt3kxC6o1V9XSSzyV5bWutVdWLkxyvqrlMouznW2v/fHrYH0ryT6vqbyf59SRHd+5lAQA8f9XkZNS1YWlpqa2vrw89BgDAtqrqwdba0vn2uRM+AEBnAgwAoDMBBgDQmQADAOhMgAEAdCbAAAA6E2AAAJ0JMACAzgQYAEBnAgwAoDMBBgDQmQADAOhMgAEAdCbAAAA6E2AAAJ0JMACAzgQYAEBnAgwAoDMBBgDQmQADAOhMgAEAdCbAAAA6E2AAAJ0JMACAzgQYAEBnAgwAoDMBBgDQmQADAOhMgAEAdCbAAAA6E2AAAJ0JMACAzgQYAEBnAgwAoDMBBgDQmQADAOhMgAEAdCbAAAA6E2AAAJ0JMACAzgQYMLNGo1EWFxczNzeXxcXFjEajoUcCZsSeoQcAGMJoNMrq6mqOHj2aAwcOZG1tLcvLy0mSQ4cODTwdsNtVa23oGS7Z0tJSW19fH3oMYBdYXFzMkSNHcvDgwWe3jcfjrKys5MSJEwNOBuwWVfVga23pvPsEGDCL5ubmcvr06czPzz+7bXNzM3v37s2ZM2cGnAzYLS4WYNaAATNpYWEha2trz9m2traWhYWFgSYCZokAA2bS6upqlpeXMx6Ps7m5mfF4nOXl5ayurg49GjADLMIHZtLZhfYrKyvZ2NjIwsJCDh8+bAE+0IU1YAAAV4E1YADn4T5gwFBcggRmkvuAAUNyCRKYSe4DBlxt7gMGcA73AQOuNmvAAM7hPmDAkAQYMJPcBwwYkkX4wExyHzBgSNaAAQBcBdaAAQA8jwgwAIDOBBgAQGcCDACgMwEGANCZAAMA6EyAAQB0JsCAmTUajbK4uJi5ubksLi5mNBoNPRIwIwQYMJNGo1HuuOOOPPXUU0mSp556KnfccYcIA7oQYMBMuvPOO7Nnz54cO3Ysp0+fzrFjx7Jnz57ceeedQ48GzAABBsykkydP5vjx4zl48GDm5+dz8ODBHD9+PCdPnhx6NGAGCDAAgM4EGDCT9u/fn9tuuy3j8Tibm5sZj8e57bbbsn///qFHA2aAAANm0t13350zZ87k9ttvz3XXXZfbb789Z86cyd133z30aMAMEGDATDp06FDuueeeXH/99amqXH/99bnnnnty6NChoUcDZkC11oae4ZItLS219fX1occAANhWVT3YWls63z5nwAAAOhNgAACdCTAAgM4EGDCzfBYkMJQ9Qw8AMITRaJTV1dUcPXo0Bw4cyNraWpaXl5PEOyGBq867IIGZtLi4mCNHjuTgwYPPbhuPx1lZWcmJEycGnAzYLS72LkgBBsykubm5nD59OvPz889u29zczN69e3PmzJkBJwN2C7ehADjHwsJC1tbWnrNtbW0tCwsLA00EzBIBBsyk1dXVLC8vP+ezIJeXl7O6ujr0aMAMsAgfmElnF9qvrKxkY2MjCwsLOXz4sAX4QBfWgAEAXAXWgAEAPI8IMACAzgQYAEBnAgwAoDMBBgDQmQADAOhMgAEAdCbAAAA6E2AAAJ0JMACAzgQYAEBnAgwAoDMBBgDQmQADAOhMgAEAdCbAAAA6E2AAAJ1tG2BVdayqHquqExfYf2tVfaaqHp5+vXm6/auqalxVH6mqD1fVHVue85aq+tiW53zTzr0kAIDntz2X8Jj7kvyDJD99kcd8oLX2zedsezrJD7TWHqqqL03yYFW9t7X2ken+t7XW/rfLnhgA4Bq37Rmw1tr7kzx+uQdurT3aWnto+v1/TLKR5Csve0IAgF1mp9aAvbKqHqmq91TVy8/dWVU3JfkzST64ZfP3VdWHppc4b7jQgavq9VW1XlXrp06d2qFxAQCGsxMB9lCSl7bWXpHkSJL7t+6sqi9J8gtJvr+19uR089uTfE2Sm5M8muTHLnTw1to7WmtLrbWlffv27cC4AADDuuIAa6092Vr77PT7B5LMV9WNSVJV85nE18+01t615TmfaK2daa09k+QnktxypXMAXK7RaJTFxcXMzc1lcXExo9Fo6JGAGXEpi/AvqqpelOQTrbVWVbdkEnWfqqpKcjTJRmvtx895zotba49Of/zWJOd9hyXA1TIajbK6upqjR4/mwIEDWVtby/LycpLk0KFDA08H7HbVWrv4A6pGSW5NcmOSTyS5K8l8krTW7q2q70vyxkze9fi5JH+jtfYrVXUgyQeS/EaSZ6aHe1Nr7YGq+seZXH5sST6a5A1bguyClpaW2vr6+uW+RoA/ZHFxMUeOHMnBgwef3TYej7OyspITJ/x/QuDKVdWDrbWl8+7bLsCeTwQYsFPm5uZy+vTpzM/PP7ttc3Mze/fuzZkzZwacDNgtLhZg7oQPzKSFhYWsra09Z9va2loWFhYGmgiYJQIMmEmrq6tZXl7OeDzO5uZmxuNxlpeXs7q6OvRowAy44kX4ANeiswvtV1ZWsrGxkYWFhRw+fNgCfKALa8AAAK4Ca8AAAJ5HBBgAQGcCDACgMwEGANCZAAMA6EyAAQB0JsCAmTUajbK4uJi5ubksLi5mNBoNPRIwI9yIFZhJo9Eoq6urOXr0aA4cOJC1tbUsLy8niZuxAledG7ECM2lxcTFHjhzJwYMHn902Ho+zsrKSEydODDgZsFtc7EasAgyYSXNzczl9+nTm5+ef3ba5uZm9e/fmzJkzA04G7BbuhA9wjoWFhaytrT1n29raWhYWFgaaCJglAgyYSaurq1leXs54PM7m5mbG43GWl5ezuro69GjADLAIH5hJZxfar6ysZGNjIwsLCzl8+LAF+EAX1oABAFwF1oABADyPCDBgZrkRKzAUAQbMpNFolDvuuCNPPfVUkuSpp57KHXfcIcKALgQYMJPuvPPO7NmzJ8eOHcvp06dz7Nix7NmzJ3feeefQowEzQIABM+nkyZM5fvx4Dh48mPn5+Rw8eDDHjx/PyZMnhx4NmAECDACgMwEGzKT9+/fntttue86NWG+77bbs379/6NGAGSDAgJl0991358yZM7n99ttz3XXX5fbbb8+ZM2dy9913Dz0aMAMEGDCTDh06lHvuuSfXX399qirXX3997rnnHnfCB7pwJ3wAgKvAnfABAJ5HBBgAQGcCDJhZPooIGIoAA2aSjyIChiTAgJnko4iAIQkwYCb5KCJgSAIMAKAzAQbMJB9FBAxJgAEzyUcRAUNyJ3zgmlJVQ49wya6lf1+BnXexO+Hv6T0MwJW4GlFTVWIJ6MolSACAzgQYAEBnAgwAoDMBBgDQmQADAOhMgAEAdCbAAAA6E2AAAJ0JMACAzgQYAEBnAgwAoDMBBgDQmQADAOhMgAEAdCbAAAA6E2AAAJ0JMACAzgQYAEBnAgwAoDMBBgDQmQADAOhMgAEAdCbAAAA6E2AAAJ0JMACAzgQYAEBnAgwAoDMBBgDQmQADAOhMgAEAdCbAAAA6E2AAAJ0JMACAzgQYAEBnAgwAoDMBBgDQmQADAOhMgAEAdCbAAAA6E2AAAJ0JMACAzgQYAEBnAgwAoDMBBgDQmQADAOhMgAEAdCbAAAA6E2AAAJ0JMACAzgQYAEBnAgwAoDMBBgDQmQADAOhMgAEAdCbAAAA6E2AAAJ0JMACAzgQYAEBnAgwAoDMBBgDQ2bYBVlXHquqxqjpxgf23VtVnqurh6debp9u/qqrGVfWRqvpwVd2x5TkvrKr3VtVvTf+8YedeEgDA89ulnAG7L8mrt3nMB1prN0+/fnS67ekkP9Ba+1NJviHJ91bVn5ru++Ekv9xa+7okvzz9GQBgJmwbYK219yd5/HIP3Fp7tLX20PT7/5hkI8lXTnd/S5Lj0++PJ3nN5R4fAOBatVNrwF5ZVY9U1Xuq6uXn7qyqm5L8mSQfnG76Y621R6ff/16SP3ahA1fV66tqvarWT506tUPjAgAMZycC7KEkL22tvSLJkST3b91ZVV+S5BeSfH9r7clzn9xaa0nahQ7eWntHa22ptba0b9++HRgXAGBYVxxgrbUnW2ufnX7/QJL5qroxSapqPpP4+pnW2ru2PO0TVfXi6WNenOSxK50DAOBaccUBVlUvqqqafn/L9Jifmm47mmSjtfbj5zztF5N81/T770ry7iudAwDgWrFnuwdU1SjJrUlurKqTSe5KMp8krbV7k3xbkjdW1dNJPpfkta21VlUHknxnkt+oqoenh3vT9CzZ303y81W1nOR3k3z7zr4sAIDnr5oswbo2LC0ttfX19aHHAHaZqsq19G8hcG2oqgdba0vn2+dO+AAAnQkwAIDOBBgAQGcCDACgMwEGANCZAAMA6EyAAQB0JsAAADoTYAAAnQkwAIDOBBgAQGcCDACgMwEGANDZnqEHAHavF77whXniiSeGHuOSVNXQI2zrhhtuyOOPPz70GMAOEGDAVfPEE0+ktTb0GLvGtRCJwKVxCRIAoDMBBgDQmQADAOhMgAEAdCbAAAA6E2AAAJ0JMACAzgQYAEBnAgwAoDMBBgDQmQADAOhMgAEAdCbAgJl26vdP5XX/8nX55Oc+OfQowAwRYMBMu/dD9+ahTzyUex+5d+hRgBkiwICZder3T+Xdv/3utLTc/9v3OwsGdCPAgJl174fuzTPtmSTJM+0ZZ8GAbgQYMJPOnv3afGYzSbL5zKazYEA3AgyYSVvPfp3lLBjQiwADZtIjjz3y7Nmvszaf2czDjz080ETALNkz9AAAQ3jnX3rn0CMAM8wZMACAzgQYAEBnAgwAoDMBBgDQmQADAOhMgAEAdCbAAAA6E2AAAJ0JMACAztwJH7hq2l1flrzljw49xq7R7vqyoUcAdogAA66a+pEn01obeoxdo6rS3jL0FMBOcAkSAKAzAQYA0JkAAwDoTIABAHQmwAAAOhNgAACdCTAAgM4EGABAZwIMAKAzAQYA0JkAAwDoTIABAHQmwAAAOhNgAACdCTAAgM4EGABAZwIMAKAzAQYA0JkAAwDoTIABAHQmwAAAOhNgAACdCTAAgM72DD0AsLtV1dAj7Bo33HDD0CMAO0SAAVdNa23oES5JVV0zswK7g0uQAACdCTAAgM4EGABAZwIMAKAzAQYA0JkAAwDoTIABAHQmwAAAOhNgAACdCTAAgM4EGABAZwIMAKAzAQYA0JkAAwDoTIABAHQmwAAAOhNgAACdCTAAgM4EGABAZwIMAKAzAQYA0JkAAwDoTIABAHQmwAAAOhNgAACdCTAAgM4EGABAZwIMAKAzAQYA0Nm2AVZVx6rqsao6cYH9t1bVZ6rq4enXm7d7blW9pao+tuU533TlLwUA4NpwKWfA7kvy6m0e84HW2s3Trx+9xOe+bctzHriEOQAAdoVtA6y19v4kj38hB7+S5wIA7FY7tQbslVX1SFW9p6pefonP+b6q+tD0MuUNF3pQVb2+qtarav3UqVM7NC4AwHB2IsAeSvLS1torkhxJcv8lPOftSb4myc1JHk3yYxd6YGvtHa21pdba0r59+3ZgXACAYV1xgLXWnmytfXb6/QNJ5qvqxm2e84nW2pnW2jNJfiLJLVc6BwDAteKKA6yqXlRVNf3+lukxP7XNc1685cdvTXLed1gCAOxGe7Z7QFWNktya5MaqOpnkriTzSdJauzfJtyV5Y1U9neRzSV7bWmsXem5r7WiSu6vq5iQtyUeTvGFnXxYAwPNXTVvpmrC0tNTW19eHHgPYZaoq19K/hcC1oaoebK0tnW+fO+EDAHQmwAAAOhNgAACdCTAAgM4EGABAZwIMAKAzAQYA0JkAAwDoTIABAHQmwAAAOhNgAACdCTAAgM4EGABAZwIMAKAzAQYA0JkAAwDoTIABAHQmwAAAOhNgAACdCTAAgM4EGABAZwIMAKAzAQYA0JkAAwDoTIABAHQmwAAAOhNgAACdCTAAgM4EGABAZwIMAKAzAQYA0JkAAwDoTIABAHQmwAAAOhNgAACdCTAAgM4EGABAZ3uGHgDgclTVNXPc1tqOHxPYHQQYcE0RNcBu4BIkAEBnAgwAoDMBBgDQmQADAOhMgAEAdCbAAAA6E2AAAJ0JMACAzgQYAEBnAgwAoDMBBgDQmQADAOhMgAEAdCbAAAA6E2AAAJ0JMACAzgQYAEBnAgwAoDMBBgDQmQADAOhMgAEAdCbAAAA6E2AAAJ0JMACAzgQYAEBnAgwAoDMBBgDQmQADAOhMgAEAdCbAAAA6E2AAAHWZa+IAAAJ9SURBVJ0JMACAzgQYMLNGo1EWFxczNzeXxcXFjEajoUcCZsSeoQcAGMJoNMrq6mqOHj2aAwcOZG1tLcvLy0mSQ4cODTwdsNtVa23oGS7Z0tJSW19fH3oMYBdYXFzMkSNHcvDgwWe3jcfjrKys5MSJEwNOBuwWVfVga23pfPtcggRm0sbGRk6ePPmcS5AnT57MxsbG0KMBM8AlSGAmveQlL8mdd96Zn/3Zn332EuR3fMd35CUvecnQowEzwBkwYGZV1UV/BrhaBBgwkz7+8Y/nrW99a1ZWVrJ3796srKzkrW99az7+8Y8PPRowA1yCBGbSwsJC9u/f/5wF9+PxOAsLCwNOBcwKZ8CAmbS6uprl5eWMx+Nsbm5mPB5neXk5q6urQ48GzABnwICZdPZeXysrK9nY2MjCwkIOHz7sHmBAF+4DBgBwFbgPGADA84gAAwDoTIABAHQmwAAAOhNgAACdCTAAgM4EGABAZwIMAKAzAQYA0JkAAwDoTIABAHQmwAAAOhNgAACdCTAAgM4EGABAZwIMAKAzAQYA0JkAAwDoTIABAHQmwAAAOqvW2tAzXLKqOpXkd4eeA9h1bkzyyaGHAHadl7bW9p1vxzUVYABXQ1Wtt9aWhp4DmB0uQQIAdCbAAAA6E2AAyTuGHgCYLdaAAQB05gwYAEBnAgwAoDMBBsysqjpWVY9V1YmhZwFmiwADZtl9SV499BDA7BFgwMxqrb0/yeNDzwHMHgEGANCZAAMA6EyAAQB0JsAAADoTYMDMqqpRkl9N8ier6mRVLQ89EzAbfBQRAEBnzoABAHQmwAAAOhNgAACdCTAAgM4EGABAZwIMAKAzAQYA0Nn/D5QKI30isVn/AAAAAElFTkSuQmCC\n",
                "text/plain": "<Figure size 720x720 with 1 Axes>"
              }
            ],
            "_view_module": "@jupyter-widgets/output",
            "_model_module_version": "1.0.0",
            "_view_count": null,
            "_view_module_version": "1.0.0",
            "layout": "IPY_MODEL_ef11c7d7ae274858a95519b394492a48",
            "_model_module": "@jupyter-widgets/output"
          }
        },
        "1f188d02b1074644bbf0485c2fc24fc3": {
          "model_module": "@jupyter-widgets/controls",
          "model_name": "DescriptionStyleModel",
          "state": {
            "_view_name": "StyleView",
            "_model_name": "DescriptionStyleModel",
            "description_width": "",
            "_view_module": "@jupyter-widgets/base",
            "_model_module_version": "1.5.0",
            "_view_count": null,
            "_view_module_version": "1.2.0",
            "_model_module": "@jupyter-widgets/controls"
          }
        },
        "7135dd1c245641d28912fd7879cb9744": {
          "model_module": "@jupyter-widgets/base",
          "model_name": "LayoutModel",
          "state": {
            "_view_name": "LayoutView",
            "grid_template_rows": null,
            "right": null,
            "justify_content": null,
            "_view_module": "@jupyter-widgets/base",
            "overflow": null,
            "_model_module_version": "1.2.0",
            "_view_count": null,
            "flex_flow": null,
            "width": null,
            "min_width": null,
            "border": null,
            "align_items": null,
            "bottom": null,
            "_model_module": "@jupyter-widgets/base",
            "top": null,
            "grid_column": null,
            "overflow_y": null,
            "overflow_x": null,
            "grid_auto_flow": null,
            "grid_area": null,
            "grid_template_columns": null,
            "flex": null,
            "_model_name": "LayoutModel",
            "justify_items": null,
            "grid_row": null,
            "max_height": null,
            "align_content": null,
            "visibility": null,
            "align_self": null,
            "height": null,
            "min_height": null,
            "padding": null,
            "grid_auto_rows": null,
            "grid_gap": null,
            "max_width": null,
            "order": null,
            "_view_module_version": "1.2.0",
            "grid_template_areas": null,
            "object_position": null,
            "object_fit": null,
            "grid_auto_columns": null,
            "margin": null,
            "display": null,
            "left": null
          }
        },
        "ef11c7d7ae274858a95519b394492a48": {
          "model_module": "@jupyter-widgets/base",
          "model_name": "LayoutModel",
          "state": {
            "_view_name": "LayoutView",
            "grid_template_rows": null,
            "right": null,
            "justify_content": null,
            "_view_module": "@jupyter-widgets/base",
            "overflow": null,
            "_model_module_version": "1.2.0",
            "_view_count": null,
            "flex_flow": null,
            "width": null,
            "min_width": null,
            "border": null,
            "align_items": null,
            "bottom": null,
            "_model_module": "@jupyter-widgets/base",
            "top": null,
            "grid_column": null,
            "overflow_y": null,
            "overflow_x": null,
            "grid_auto_flow": null,
            "grid_area": null,
            "grid_template_columns": null,
            "flex": null,
            "_model_name": "LayoutModel",
            "justify_items": null,
            "grid_row": null,
            "max_height": null,
            "align_content": null,
            "visibility": null,
            "align_self": null,
            "height": null,
            "min_height": null,
            "padding": null,
            "grid_auto_rows": null,
            "grid_gap": null,
            "max_width": null,
            "order": null,
            "_view_module_version": "1.2.0",
            "grid_template_areas": null,
            "object_position": null,
            "object_fit": null,
            "grid_auto_columns": null,
            "margin": null,
            "display": null,
            "left": null
          }
        },
        "8bec98bff8ea44ba8e3e2363720acc2f": {
          "model_module": "@jupyter-widgets/controls",
          "model_name": "VBoxModel",
          "state": {
            "_view_name": "VBoxView",
            "_dom_classes": [
              "widget-interact"
            ],
            "_model_name": "VBoxModel",
            "_view_module": "@jupyter-widgets/controls",
            "_model_module_version": "1.5.0",
            "_view_count": null,
            "_view_module_version": "1.5.0",
            "box_style": "",
            "layout": "IPY_MODEL_3179285b34be4d4ca2aec8e2c6df50aa",
            "_model_module": "@jupyter-widgets/controls",
            "children": [
              "IPY_MODEL_d761da91ebb5404497f68e96b43ab72d",
              "IPY_MODEL_eea7d7c386934dcc8f3924119b76cc1d",
              "IPY_MODEL_3fb3717d3bf6434e98e027e9dc12089d"
            ]
          }
        },
        "3179285b34be4d4ca2aec8e2c6df50aa": {
          "model_module": "@jupyter-widgets/base",
          "model_name": "LayoutModel",
          "state": {
            "_view_name": "LayoutView",
            "grid_template_rows": null,
            "right": null,
            "justify_content": null,
            "_view_module": "@jupyter-widgets/base",
            "overflow": null,
            "_model_module_version": "1.2.0",
            "_view_count": null,
            "flex_flow": null,
            "width": null,
            "min_width": null,
            "border": null,
            "align_items": null,
            "bottom": null,
            "_model_module": "@jupyter-widgets/base",
            "top": null,
            "grid_column": null,
            "overflow_y": null,
            "overflow_x": null,
            "grid_auto_flow": null,
            "grid_area": null,
            "grid_template_columns": null,
            "flex": null,
            "_model_name": "LayoutModel",
            "justify_items": null,
            "grid_row": null,
            "max_height": null,
            "align_content": null,
            "visibility": null,
            "align_self": null,
            "height": null,
            "min_height": null,
            "padding": null,
            "grid_auto_rows": null,
            "grid_gap": null,
            "max_width": null,
            "order": null,
            "_view_module_version": "1.2.0",
            "grid_template_areas": null,
            "object_position": null,
            "object_fit": null,
            "grid_auto_columns": null,
            "margin": null,
            "display": null,
            "left": null
          }
        },
        "d761da91ebb5404497f68e96b43ab72d": {
          "model_module": "@jupyter-widgets/controls",
          "model_name": "DropdownModel",
          "state": {
            "_options_labels": [
              "RI",
              "Na",
              "Mg",
              "Al",
              "Si",
              "K",
              "Ca",
              "Ba",
              "Fe"
            ],
            "_view_name": "DropdownView",
            "style": "IPY_MODEL_b879501e3be84ff4b355be12b31a4104",
            "_dom_classes": [],
            "description": "col1",
            "_model_name": "DropdownModel",
            "index": 0,
            "_view_module": "@jupyter-widgets/controls",
            "_model_module_version": "1.5.0",
            "_view_count": null,
            "disabled": false,
            "_view_module_version": "1.5.0",
            "description_tooltip": null,
            "_model_module": "@jupyter-widgets/controls",
            "layout": "IPY_MODEL_5f90751205cc4e158a46e940a41a5cd5"
          }
        },
        "eea7d7c386934dcc8f3924119b76cc1d": {
          "model_module": "@jupyter-widgets/controls",
          "model_name": "DropdownModel",
          "state": {
            "_options_labels": [
              "RI",
              "Na",
              "Mg",
              "Al",
              "Si",
              "K",
              "Ca",
              "Ba",
              "Fe"
            ],
            "_view_name": "DropdownView",
            "style": "IPY_MODEL_e0fc8a24369249a98d2c845d7443b20c",
            "_dom_classes": [],
            "description": "col2",
            "_model_name": "DropdownModel",
            "index": 0,
            "_view_module": "@jupyter-widgets/controls",
            "_model_module_version": "1.5.0",
            "_view_count": null,
            "disabled": false,
            "_view_module_version": "1.5.0",
            "description_tooltip": null,
            "_model_module": "@jupyter-widgets/controls",
            "layout": "IPY_MODEL_fe441ea8f1714ca3a8ddf280d3d59689"
          }
        },
        "3fb3717d3bf6434e98e027e9dc12089d": {
          "model_module": "@jupyter-widgets/output",
          "model_name": "OutputModel",
          "state": {
            "_view_name": "OutputView",
            "msg_id": "",
            "_dom_classes": [],
            "_model_name": "OutputModel",
            "outputs": [
              {
                "output_type": "display_data",
                "metadata": {
                  "tags": [],
                  "needs_background": "light"
                },
                "image/png": "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\n",
                "text/plain": "<Figure size 720x720 with 1 Axes>"
              }
            ],
            "_view_module": "@jupyter-widgets/output",
            "_model_module_version": "1.0.0",
            "_view_count": null,
            "_view_module_version": "1.0.0",
            "layout": "IPY_MODEL_ec7d64cbc3e74bf5b0cdecb0c174d035",
            "_model_module": "@jupyter-widgets/output"
          }
        },
        "b879501e3be84ff4b355be12b31a4104": {
          "model_module": "@jupyter-widgets/controls",
          "model_name": "DescriptionStyleModel",
          "state": {
            "_view_name": "StyleView",
            "_model_name": "DescriptionStyleModel",
            "description_width": "",
            "_view_module": "@jupyter-widgets/base",
            "_model_module_version": "1.5.0",
            "_view_count": null,
            "_view_module_version": "1.2.0",
            "_model_module": "@jupyter-widgets/controls"
          }
        },
        "5f90751205cc4e158a46e940a41a5cd5": {
          "model_module": "@jupyter-widgets/base",
          "model_name": "LayoutModel",
          "state": {
            "_view_name": "LayoutView",
            "grid_template_rows": null,
            "right": null,
            "justify_content": null,
            "_view_module": "@jupyter-widgets/base",
            "overflow": null,
            "_model_module_version": "1.2.0",
            "_view_count": null,
            "flex_flow": null,
            "width": null,
            "min_width": null,
            "border": null,
            "align_items": null,
            "bottom": null,
            "_model_module": "@jupyter-widgets/base",
            "top": null,
            "grid_column": null,
            "overflow_y": null,
            "overflow_x": null,
            "grid_auto_flow": null,
            "grid_area": null,
            "grid_template_columns": null,
            "flex": null,
            "_model_name": "LayoutModel",
            "justify_items": null,
            "grid_row": null,
            "max_height": null,
            "align_content": null,
            "visibility": null,
            "align_self": null,
            "height": null,
            "min_height": null,
            "padding": null,
            "grid_auto_rows": null,
            "grid_gap": null,
            "max_width": null,
            "order": null,
            "_view_module_version": "1.2.0",
            "grid_template_areas": null,
            "object_position": null,
            "object_fit": null,
            "grid_auto_columns": null,
            "margin": null,
            "display": null,
            "left": null
          }
        },
        "e0fc8a24369249a98d2c845d7443b20c": {
          "model_module": "@jupyter-widgets/controls",
          "model_name": "DescriptionStyleModel",
          "state": {
            "_view_name": "StyleView",
            "_model_name": "DescriptionStyleModel",
            "description_width": "",
            "_view_module": "@jupyter-widgets/base",
            "_model_module_version": "1.5.0",
            "_view_count": null,
            "_view_module_version": "1.2.0",
            "_model_module": "@jupyter-widgets/controls"
          }
        },
        "fe441ea8f1714ca3a8ddf280d3d59689": {
          "model_module": "@jupyter-widgets/base",
          "model_name": "LayoutModel",
          "state": {
            "_view_name": "LayoutView",
            "grid_template_rows": null,
            "right": null,
            "justify_content": null,
            "_view_module": "@jupyter-widgets/base",
            "overflow": null,
            "_model_module_version": "1.2.0",
            "_view_count": null,
            "flex_flow": null,
            "width": null,
            "min_width": null,
            "border": null,
            "align_items": null,
            "bottom": null,
            "_model_module": "@jupyter-widgets/base",
            "top": null,
            "grid_column": null,
            "overflow_y": null,
            "overflow_x": null,
            "grid_auto_flow": null,
            "grid_area": null,
            "grid_template_columns": null,
            "flex": null,
            "_model_name": "LayoutModel",
            "justify_items": null,
            "grid_row": null,
            "max_height": null,
            "align_content": null,
            "visibility": null,
            "align_self": null,
            "height": null,
            "min_height": null,
            "padding": null,
            "grid_auto_rows": null,
            "grid_gap": null,
            "max_width": null,
            "order": null,
            "_view_module_version": "1.2.0",
            "grid_template_areas": null,
            "object_position": null,
            "object_fit": null,
            "grid_auto_columns": null,
            "margin": null,
            "display": null,
            "left": null
          }
        },
        "ec7d64cbc3e74bf5b0cdecb0c174d035": {
          "model_module": "@jupyter-widgets/base",
          "model_name": "LayoutModel",
          "state": {
            "_view_name": "LayoutView",
            "grid_template_rows": null,
            "right": null,
            "justify_content": null,
            "_view_module": "@jupyter-widgets/base",
            "overflow": null,
            "_model_module_version": "1.2.0",
            "_view_count": null,
            "flex_flow": null,
            "width": null,
            "min_width": null,
            "border": null,
            "align_items": null,
            "bottom": null,
            "_model_module": "@jupyter-widgets/base",
            "top": null,
            "grid_column": null,
            "overflow_y": null,
            "overflow_x": null,
            "grid_auto_flow": null,
            "grid_area": null,
            "grid_template_columns": null,
            "flex": null,
            "_model_name": "LayoutModel",
            "justify_items": null,
            "grid_row": null,
            "max_height": null,
            "align_content": null,
            "visibility": null,
            "align_self": null,
            "height": null,
            "min_height": null,
            "padding": null,
            "grid_auto_rows": null,
            "grid_gap": null,
            "max_width": null,
            "order": null,
            "_view_module_version": "1.2.0",
            "grid_template_areas": null,
            "object_position": null,
            "object_fit": null,
            "grid_auto_columns": null,
            "margin": null,
            "display": null,
            "left": null
          }
        }
      }
    }
  },
  "cells": [
    {
      "cell_type": "markdown",
      "metadata": {
        "id": "view-in-github",
        "colab_type": "text"
      },
      "source": [
        "<a href=\"https://colab.research.google.com/github/dolidovich1/Mikhail-Dolidovich/blob/main/Untitled8.ipynb\" target=\"_parent\"><img src=\"https://colab.research.google.com/assets/colab-badge.svg\" alt=\"Open In Colab\"/></a>"
      ]
    },
    {
      "cell_type": "markdown",
      "metadata": {
        "id": "6lRRQCuV6f0g"
      },
      "source": [
        "###import packages"
      ]
    },
    {
      "cell_type": "code",
      "metadata": {
        "id": "GAl7ydRe6cgR"
      },
      "source": [
        "import matplotlib.pyplot as plt\n",
        "import seaborn as sns\n",
        "import ipywidgets as widgets\n",
        "import sklearn.preprocessing as prepr\n",
        "import pandas as pd\n",
        "import numpy as np\n",
        "from IPython.display import display\n",
        "\n",
        "import matplotlib.pyplot as plt\n",
        "import seaborn as sns\n",
        "\n",
        "import sklearn.preprocessing as prepro\n",
        "\n",
        "from sklearn.ensemble import ExtraTreesClassifier"
      ],
      "execution_count": 6,
      "outputs": []
    },
    {
      "cell_type": "markdown",
      "metadata": {
        "id": "Y_kNfnqS5PKH"
      },
      "source": [
        "### data import"
      ]
    },
    {
      "cell_type": "code",
      "metadata": {
        "colab": {
          "base_uri": "https://localhost:8080/",
          "height": 136
        },
        "id": "Oh-p3ieW5Hbv",
        "outputId": "be7024cf-76ae-4149-edaa-6a1ef00898de"
      },
      "source": [
        "data = pd.read_csv(\"https://archive.ics.uci.edu/ml/machine-learning-databases/glass/glass.data\", header = None)\n",
        "data.head(3)"
      ],
      "execution_count": 7,
      "outputs": [
        {
          "output_type": "execute_result",
          "data": {
            "text/html": [
              "<div>\n",
              "<style scoped>\n",
              "    .dataframe tbody tr th:only-of-type {\n",
              "        vertical-align: middle;\n",
              "    }\n",
              "\n",
              "    .dataframe tbody tr th {\n",
              "        vertical-align: top;\n",
              "    }\n",
              "\n",
              "    .dataframe thead th {\n",
              "        text-align: right;\n",
              "    }\n",
              "</style>\n",
              "<table border=\"1\" class=\"dataframe\">\n",
              "  <thead>\n",
              "    <tr style=\"text-align: right;\">\n",
              "      <th></th>\n",
              "      <th>0</th>\n",
              "      <th>1</th>\n",
              "      <th>2</th>\n",
              "      <th>3</th>\n",
              "      <th>4</th>\n",
              "      <th>5</th>\n",
              "      <th>6</th>\n",
              "      <th>7</th>\n",
              "      <th>8</th>\n",
              "      <th>9</th>\n",
              "      <th>10</th>\n",
              "    </tr>\n",
              "  </thead>\n",
              "  <tbody>\n",
              "    <tr>\n",
              "      <th>0</th>\n",
              "      <td>1</td>\n",
              "      <td>1.52101</td>\n",
              "      <td>13.64</td>\n",
              "      <td>4.49</td>\n",
              "      <td>1.10</td>\n",
              "      <td>71.78</td>\n",
              "      <td>0.06</td>\n",
              "      <td>8.75</td>\n",
              "      <td>0.0</td>\n",
              "      <td>0.0</td>\n",
              "      <td>1</td>\n",
              "    </tr>\n",
              "    <tr>\n",
              "      <th>1</th>\n",
              "      <td>2</td>\n",
              "      <td>1.51761</td>\n",
              "      <td>13.89</td>\n",
              "      <td>3.60</td>\n",
              "      <td>1.36</td>\n",
              "      <td>72.73</td>\n",
              "      <td>0.48</td>\n",
              "      <td>7.83</td>\n",
              "      <td>0.0</td>\n",
              "      <td>0.0</td>\n",
              "      <td>1</td>\n",
              "    </tr>\n",
              "    <tr>\n",
              "      <th>2</th>\n",
              "      <td>3</td>\n",
              "      <td>1.51618</td>\n",
              "      <td>13.53</td>\n",
              "      <td>3.55</td>\n",
              "      <td>1.54</td>\n",
              "      <td>72.99</td>\n",
              "      <td>0.39</td>\n",
              "      <td>7.78</td>\n",
              "      <td>0.0</td>\n",
              "      <td>0.0</td>\n",
              "      <td>1</td>\n",
              "    </tr>\n",
              "  </tbody>\n",
              "</table>\n",
              "</div>"
            ],
            "text/plain": [
              "   0        1      2     3     4      5     6     7    8    9   10\n",
              "0   1  1.52101  13.64  4.49  1.10  71.78  0.06  8.75  0.0  0.0   1\n",
              "1   2  1.51761  13.89  3.60  1.36  72.73  0.48  7.83  0.0  0.0   1\n",
              "2   3  1.51618  13.53  3.55  1.54  72.99  0.39  7.78  0.0  0.0   1"
            ]
          },
          "metadata": {
            "tags": []
          },
          "execution_count": 7
        }
      ]
    },
    {
      "cell_type": "code",
      "metadata": {
        "colab": {
          "base_uri": "https://localhost:8080/",
          "height": 136
        },
        "id": "zbNtHk1A5Yw6",
        "outputId": "0c19ced6-2953-4444-a191-eb1425853148"
      },
      "source": [
        "names = [\"Id\", \"RI\", \"Na\", \"Mg\", \"Al\", \"Si\", \"K\", \"Ca\", \"Ba\", \"Fe\", \"Class\"]\n",
        "data.columns = names\n",
        "data = data.drop(columns=['Id'])\n",
        "data.head(3)"
      ],
      "execution_count": 8,
      "outputs": [
        {
          "output_type": "execute_result",
          "data": {
            "text/html": [
              "<div>\n",
              "<style scoped>\n",
              "    .dataframe tbody tr th:only-of-type {\n",
              "        vertical-align: middle;\n",
              "    }\n",
              "\n",
              "    .dataframe tbody tr th {\n",
              "        vertical-align: top;\n",
              "    }\n",
              "\n",
              "    .dataframe thead th {\n",
              "        text-align: right;\n",
              "    }\n",
              "</style>\n",
              "<table border=\"1\" class=\"dataframe\">\n",
              "  <thead>\n",
              "    <tr style=\"text-align: right;\">\n",
              "      <th></th>\n",
              "      <th>RI</th>\n",
              "      <th>Na</th>\n",
              "      <th>Mg</th>\n",
              "      <th>Al</th>\n",
              "      <th>Si</th>\n",
              "      <th>K</th>\n",
              "      <th>Ca</th>\n",
              "      <th>Ba</th>\n",
              "      <th>Fe</th>\n",
              "      <th>Class</th>\n",
              "    </tr>\n",
              "  </thead>\n",
              "  <tbody>\n",
              "    <tr>\n",
              "      <th>0</th>\n",
              "      <td>1.52101</td>\n",
              "      <td>13.64</td>\n",
              "      <td>4.49</td>\n",
              "      <td>1.10</td>\n",
              "      <td>71.78</td>\n",
              "      <td>0.06</td>\n",
              "      <td>8.75</td>\n",
              "      <td>0.0</td>\n",
              "      <td>0.0</td>\n",
              "      <td>1</td>\n",
              "    </tr>\n",
              "    <tr>\n",
              "      <th>1</th>\n",
              "      <td>1.51761</td>\n",
              "      <td>13.89</td>\n",
              "      <td>3.60</td>\n",
              "      <td>1.36</td>\n",
              "      <td>72.73</td>\n",
              "      <td>0.48</td>\n",
              "      <td>7.83</td>\n",
              "      <td>0.0</td>\n",
              "      <td>0.0</td>\n",
              "      <td>1</td>\n",
              "    </tr>\n",
              "    <tr>\n",
              "      <th>2</th>\n",
              "      <td>1.51618</td>\n",
              "      <td>13.53</td>\n",
              "      <td>3.55</td>\n",
              "      <td>1.54</td>\n",
              "      <td>72.99</td>\n",
              "      <td>0.39</td>\n",
              "      <td>7.78</td>\n",
              "      <td>0.0</td>\n",
              "      <td>0.0</td>\n",
              "      <td>1</td>\n",
              "    </tr>\n",
              "  </tbody>\n",
              "</table>\n",
              "</div>"
            ],
            "text/plain": [
              "        RI     Na    Mg    Al     Si     K    Ca   Ba   Fe  Class\n",
              "0  1.52101  13.64  4.49  1.10  71.78  0.06  8.75  0.0  0.0      1\n",
              "1  1.51761  13.89  3.60  1.36  72.73  0.48  7.83  0.0  0.0      1\n",
              "2  1.51618  13.53  3.55  1.54  72.99  0.39  7.78  0.0  0.0      1"
            ]
          },
          "metadata": {
            "tags": []
          },
          "execution_count": 8
        }
      ]
    },
    {
      "cell_type": "code",
      "metadata": {
        "colab": {
          "base_uri": "https://localhost:8080/",
          "height": 195
        },
        "id": "d1aRFZy-5c_A",
        "outputId": "82c10dbc-39d4-4874-c1cd-28b06c7af341"
      },
      "source": [
        "data['Class'].replace(\n",
        "    {\n",
        "     1:\"building_float\",\n",
        "     2:\"building_non_float\",\n",
        "     3:\"vehicle_float\",\n",
        "     4:\"vehicle_non_float\",\n",
        "     5:\"containers\",\n",
        "     6:\"tableware\",\n",
        "     7:\"headlamps\"\n",
        "    }, inplace=True)\n",
        "data.head(5)"
      ],
      "execution_count": 9,
      "outputs": [
        {
          "output_type": "execute_result",
          "data": {
            "text/html": [
              "<div>\n",
              "<style scoped>\n",
              "    .dataframe tbody tr th:only-of-type {\n",
              "        vertical-align: middle;\n",
              "    }\n",
              "\n",
              "    .dataframe tbody tr th {\n",
              "        vertical-align: top;\n",
              "    }\n",
              "\n",
              "    .dataframe thead th {\n",
              "        text-align: right;\n",
              "    }\n",
              "</style>\n",
              "<table border=\"1\" class=\"dataframe\">\n",
              "  <thead>\n",
              "    <tr style=\"text-align: right;\">\n",
              "      <th></th>\n",
              "      <th>RI</th>\n",
              "      <th>Na</th>\n",
              "      <th>Mg</th>\n",
              "      <th>Al</th>\n",
              "      <th>Si</th>\n",
              "      <th>K</th>\n",
              "      <th>Ca</th>\n",
              "      <th>Ba</th>\n",
              "      <th>Fe</th>\n",
              "      <th>Class</th>\n",
              "    </tr>\n",
              "  </thead>\n",
              "  <tbody>\n",
              "    <tr>\n",
              "      <th>0</th>\n",
              "      <td>1.52101</td>\n",
              "      <td>13.64</td>\n",
              "      <td>4.49</td>\n",
              "      <td>1.10</td>\n",
              "      <td>71.78</td>\n",
              "      <td>0.06</td>\n",
              "      <td>8.75</td>\n",
              "      <td>0.0</td>\n",
              "      <td>0.0</td>\n",
              "      <td>building_float</td>\n",
              "    </tr>\n",
              "    <tr>\n",
              "      <th>1</th>\n",
              "      <td>1.51761</td>\n",
              "      <td>13.89</td>\n",
              "      <td>3.60</td>\n",
              "      <td>1.36</td>\n",
              "      <td>72.73</td>\n",
              "      <td>0.48</td>\n",
              "      <td>7.83</td>\n",
              "      <td>0.0</td>\n",
              "      <td>0.0</td>\n",
              "      <td>building_float</td>\n",
              "    </tr>\n",
              "    <tr>\n",
              "      <th>2</th>\n",
              "      <td>1.51618</td>\n",
              "      <td>13.53</td>\n",
              "      <td>3.55</td>\n",
              "      <td>1.54</td>\n",
              "      <td>72.99</td>\n",
              "      <td>0.39</td>\n",
              "      <td>7.78</td>\n",
              "      <td>0.0</td>\n",
              "      <td>0.0</td>\n",
              "      <td>building_float</td>\n",
              "    </tr>\n",
              "    <tr>\n",
              "      <th>3</th>\n",
              "      <td>1.51766</td>\n",
              "      <td>13.21</td>\n",
              "      <td>3.69</td>\n",
              "      <td>1.29</td>\n",
              "      <td>72.61</td>\n",
              "      <td>0.57</td>\n",
              "      <td>8.22</td>\n",
              "      <td>0.0</td>\n",
              "      <td>0.0</td>\n",
              "      <td>building_float</td>\n",
              "    </tr>\n",
              "    <tr>\n",
              "      <th>4</th>\n",
              "      <td>1.51742</td>\n",
              "      <td>13.27</td>\n",
              "      <td>3.62</td>\n",
              "      <td>1.24</td>\n",
              "      <td>73.08</td>\n",
              "      <td>0.55</td>\n",
              "      <td>8.07</td>\n",
              "      <td>0.0</td>\n",
              "      <td>0.0</td>\n",
              "      <td>building_float</td>\n",
              "    </tr>\n",
              "  </tbody>\n",
              "</table>\n",
              "</div>"
            ],
            "text/plain": [
              "        RI     Na    Mg    Al     Si     K    Ca   Ba   Fe           Class\n",
              "0  1.52101  13.64  4.49  1.10  71.78  0.06  8.75  0.0  0.0  building_float\n",
              "1  1.51761  13.89  3.60  1.36  72.73  0.48  7.83  0.0  0.0  building_float\n",
              "2  1.51618  13.53  3.55  1.54  72.99  0.39  7.78  0.0  0.0  building_float\n",
              "3  1.51766  13.21  3.69  1.29  72.61  0.57  8.22  0.0  0.0  building_float\n",
              "4  1.51742  13.27  3.62  1.24  73.08  0.55  8.07  0.0  0.0  building_float"
            ]
          },
          "metadata": {
            "tags": []
          },
          "execution_count": 9
        }
      ]
    },
    {
      "cell_type": "code",
      "metadata": {
        "colab": {
          "base_uri": "https://localhost:8080/",
          "height": 195
        },
        "id": "OzcrDJAK5f-I",
        "outputId": "238c14a6-6bb1-4738-82c8-7a7e758e894d"
      },
      "source": [
        "for col in data.columns:\n",
        "  fr = np.random.randint(5,10)/100\n",
        "  data.loc[data.sample(frac=fr).index, col] = np.nan\n",
        "data.head()"
      ],
      "execution_count": 10,
      "outputs": [
        {
          "output_type": "execute_result",
          "data": {
            "text/html": [
              "<div>\n",
              "<style scoped>\n",
              "    .dataframe tbody tr th:only-of-type {\n",
              "        vertical-align: middle;\n",
              "    }\n",
              "\n",
              "    .dataframe tbody tr th {\n",
              "        vertical-align: top;\n",
              "    }\n",
              "\n",
              "    .dataframe thead th {\n",
              "        text-align: right;\n",
              "    }\n",
              "</style>\n",
              "<table border=\"1\" class=\"dataframe\">\n",
              "  <thead>\n",
              "    <tr style=\"text-align: right;\">\n",
              "      <th></th>\n",
              "      <th>RI</th>\n",
              "      <th>Na</th>\n",
              "      <th>Mg</th>\n",
              "      <th>Al</th>\n",
              "      <th>Si</th>\n",
              "      <th>K</th>\n",
              "      <th>Ca</th>\n",
              "      <th>Ba</th>\n",
              "      <th>Fe</th>\n",
              "      <th>Class</th>\n",
              "    </tr>\n",
              "  </thead>\n",
              "  <tbody>\n",
              "    <tr>\n",
              "      <th>0</th>\n",
              "      <td>1.52101</td>\n",
              "      <td>13.64</td>\n",
              "      <td>4.49</td>\n",
              "      <td>1.10</td>\n",
              "      <td>71.78</td>\n",
              "      <td>0.06</td>\n",
              "      <td>8.75</td>\n",
              "      <td>0.0</td>\n",
              "      <td>0.0</td>\n",
              "      <td>building_float</td>\n",
              "    </tr>\n",
              "    <tr>\n",
              "      <th>1</th>\n",
              "      <td>1.51761</td>\n",
              "      <td>13.89</td>\n",
              "      <td>NaN</td>\n",
              "      <td>1.36</td>\n",
              "      <td>72.73</td>\n",
              "      <td>0.48</td>\n",
              "      <td>NaN</td>\n",
              "      <td>0.0</td>\n",
              "      <td>0.0</td>\n",
              "      <td>building_float</td>\n",
              "    </tr>\n",
              "    <tr>\n",
              "      <th>2</th>\n",
              "      <td>1.51618</td>\n",
              "      <td>13.53</td>\n",
              "      <td>3.55</td>\n",
              "      <td>NaN</td>\n",
              "      <td>72.99</td>\n",
              "      <td>0.39</td>\n",
              "      <td>7.78</td>\n",
              "      <td>0.0</td>\n",
              "      <td>0.0</td>\n",
              "      <td>building_float</td>\n",
              "    </tr>\n",
              "    <tr>\n",
              "      <th>3</th>\n",
              "      <td>1.51766</td>\n",
              "      <td>13.21</td>\n",
              "      <td>3.69</td>\n",
              "      <td>1.29</td>\n",
              "      <td>72.61</td>\n",
              "      <td>0.57</td>\n",
              "      <td>8.22</td>\n",
              "      <td>0.0</td>\n",
              "      <td>0.0</td>\n",
              "      <td>building_float</td>\n",
              "    </tr>\n",
              "    <tr>\n",
              "      <th>4</th>\n",
              "      <td>1.51742</td>\n",
              "      <td>13.27</td>\n",
              "      <td>3.62</td>\n",
              "      <td>NaN</td>\n",
              "      <td>73.08</td>\n",
              "      <td>0.55</td>\n",
              "      <td>8.07</td>\n",
              "      <td>0.0</td>\n",
              "      <td>0.0</td>\n",
              "      <td>building_float</td>\n",
              "    </tr>\n",
              "  </tbody>\n",
              "</table>\n",
              "</div>"
            ],
            "text/plain": [
              "        RI     Na    Mg    Al     Si     K    Ca   Ba   Fe           Class\n",
              "0  1.52101  13.64  4.49  1.10  71.78  0.06  8.75  0.0  0.0  building_float\n",
              "1  1.51761  13.89   NaN  1.36  72.73  0.48   NaN  0.0  0.0  building_float\n",
              "2  1.51618  13.53  3.55   NaN  72.99  0.39  7.78  0.0  0.0  building_float\n",
              "3  1.51766  13.21  3.69  1.29  72.61  0.57  8.22  0.0  0.0  building_float\n",
              "4  1.51742  13.27  3.62   NaN  73.08  0.55  8.07  0.0  0.0  building_float"
            ]
          },
          "metadata": {
            "tags": []
          },
          "execution_count": 10
        }
      ]
    },
    {
      "cell_type": "markdown",
      "metadata": {
        "id": "vOh3dPqL5y3g"
      },
      "source": [
        "### task 3"
      ]
    },
    {
      "cell_type": "code",
      "metadata": {
        "colab": {
          "base_uri": "https://localhost:8080/"
        },
        "id": "JzRuaPUg526P",
        "outputId": "d8ee6f93-c2b9-49ad-bd08-090865c86db5"
      },
      "source": [
        "cols = data.columns\n",
        "cols"
      ],
      "execution_count": 11,
      "outputs": [
        {
          "output_type": "execute_result",
          "data": {
            "text/plain": [
              "Index(['RI', 'Na', 'Mg', 'Al', 'Si', 'K', 'Ca', 'Ba', 'Fe', 'Class'], dtype='object')"
            ]
          },
          "metadata": {
            "tags": []
          },
          "execution_count": 11
        }
      ]
    },
    {
      "cell_type": "code",
      "metadata": {
        "colab": {
          "base_uri": "https://localhost:8080/",
          "height": 660,
          "referenced_widgets": [
            "44a929b76ec849aab4b8082a3af182b0",
            "21c64d2a6601443ab5b7147783bd68d1",
            "2a4d64e4b4464c418456dd163c73079f",
            "7f96faf0101845a790e7be4fe23e359e",
            "9a7c6cfdb4be49c4860d00300de697b7",
            "aceca9574c6f493d8d7110d984dcc6ae",
            "8457f92c7ec64d37afaadf522eee7705"
          ]
        },
        "id": "MdTDOZh76AJ_",
        "outputId": "b171497e-a3b2-45a9-c874-433fdb25fb3b"
      },
      "source": [
        "def showDiagramm(col):\n",
        "    fig, ax = plt.subplots(figsize=(10,10))\n",
        "    if col == \"Class\":\n",
        "      ax.bar(data[col].value_counts().index.values, data[col].value_counts().values)\n",
        "      ax.set_title(\"Barplot для \" + col, fontsize=16)\n",
        "      ax.tick_params(axis=\"x\", which=\"major\", labelsize=10, rotation = 35)\n",
        "    else:\n",
        "      ax.hist(data[col], density = True, bins = 20)\n",
        "      ax.set_xlabel(col, fontsize=16)\n",
        "      ax.set_title(\"Гистограмма для \" + col, fontsize=16)\n",
        "    plt.show()\n",
        "     \n",
        "widgets.interact(showDiagramm, col=cols);"
      ],
      "execution_count": 12,
      "outputs": [
        {
          "output_type": "display_data",
          "data": {
            "application/vnd.jupyter.widget-view+json": {
              "model_id": "44a929b76ec849aab4b8082a3af182b0",
              "version_minor": 0,
              "version_major": 2
            },
            "text/plain": [
              "interactive(children=(Dropdown(description='col', options=('RI', 'Na', 'Mg', 'Al', 'Si', 'K', 'Ca', 'Ba', 'Fe'…"
            ]
          },
          "metadata": {
            "tags": []
          }
        }
      ]
    },
    {
      "cell_type": "code",
      "metadata": {
        "colab": {
          "base_uri": "https://localhost:8080/",
          "height": 641,
          "referenced_widgets": [
            "070e184537d74936b0cf71c91e6d620b",
            "9627837855ed45d5ae2003b665fd2d61",
            "c58d345a3b2a4e7cabe07ea6c0d9ccd5",
            "62e11f8034e74777baa87c7879141ef5",
            "1f188d02b1074644bbf0485c2fc24fc3",
            "7135dd1c245641d28912fd7879cb9744",
            "ef11c7d7ae274858a95519b394492a48"
          ]
        },
        "id": "fllACf--6C3g",
        "outputId": "7227ea83-2694-42f9-9b2f-e6f8607ad763"
      },
      "source": [
        "def showDiagramm(col):\n",
        "    fig, ax = plt.subplots(figsize=(10,10))\n",
        "    data1 = data[col][~np.isnan(data[col])].copy()\n",
        "    ax.boxplot(data1, showmeans=True) \n",
        "    ax.set_title(f\"Ящик с усами, {col}\", fontsize=16)\n",
        "    plt.show()\n",
        "     \n",
        "widgets.interact(showDiagramm, col=cols[:-1]);"
      ],
      "execution_count": 13,
      "outputs": [
        {
          "output_type": "display_data",
          "data": {
            "application/vnd.jupyter.widget-view+json": {
              "model_id": "070e184537d74936b0cf71c91e6d620b",
              "version_minor": 0,
              "version_major": 2
            },
            "text/plain": [
              "interactive(children=(Dropdown(description='col', options=('RI', 'Na', 'Mg', 'Al', 'Si', 'K', 'Ca', 'Ba', 'Fe'…"
            ]
          },
          "metadata": {
            "tags": []
          }
        }
      ]
    },
    {
      "cell_type": "code",
      "metadata": {
        "colab": {
          "base_uri": "https://localhost:8080/",
          "height": 677,
          "referenced_widgets": [
            "8bec98bff8ea44ba8e3e2363720acc2f",
            "3179285b34be4d4ca2aec8e2c6df50aa",
            "d761da91ebb5404497f68e96b43ab72d",
            "eea7d7c386934dcc8f3924119b76cc1d",
            "3fb3717d3bf6434e98e027e9dc12089d",
            "b879501e3be84ff4b355be12b31a4104",
            "5f90751205cc4e158a46e940a41a5cd5",
            "e0fc8a24369249a98d2c845d7443b20c",
            "fe441ea8f1714ca3a8ddf280d3d59689",
            "ec7d64cbc3e74bf5b0cdecb0c174d035"
          ]
        },
        "id": "iJ8Z3_JV6Fft",
        "outputId": "8ac793f7-5cf8-4617-a94d-11e2ee2ed28b"
      },
      "source": [
        "def showDiagramm(col1, col2):\n",
        "    fig, ax = plt.subplots(figsize=(10,10))\n",
        "    for glassType in data['Class'].value_counts().index.values:\n",
        "      ax.scatter(data[col1][data['Class']==glassType], data[col2][data['Class']==glassType], label=glassType)\n",
        "    ax.set_xlabel(col1, fontsize=16)\n",
        "    ax.set_ylabel(col2, fontsize=16)\n",
        "    plt.show()\n",
        "     \n",
        "widgets.interact(showDiagramm, col1=cols[:-1], col2=cols[:-1]);"
      ],
      "execution_count": 14,
      "outputs": [
        {
          "output_type": "display_data",
          "data": {
            "application/vnd.jupyter.widget-view+json": {
              "model_id": "8bec98bff8ea44ba8e3e2363720acc2f",
              "version_minor": 0,
              "version_major": 2
            },
            "text/plain": [
              "interactive(children=(Dropdown(description='col1', options=('RI', 'Na', 'Mg', 'Al', 'Si', 'K', 'Ca', 'Ba', 'Fe…"
            ]
          },
          "metadata": {
            "tags": []
          }
        }
      ]
    }
  ]
}